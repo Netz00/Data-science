{
  "nbformat": 4,
  "nbformat_minor": 0,
  "metadata": {
    "colab": {
      "provenance": [],
      "collapsed_sections": [
        "kUO8g688nPPg",
        "C2Mj1EiYIpeo",
        "4jfKYHq4_xyC",
        "tolM9tOhuOuB",
        "r6OgK9jIWqr5",
        "kIfTHPAxWjfp",
        "UAwGvR0DvQCB",
        "vXRfT0tOx-VT",
        "tma2RHmM5N32"
      ],
      "authorship_tag": "ABX9TyNqJWZHugQgaHeOlalR0BqI",
      "include_colab_link": true
    },
    "kernelspec": {
      "name": "python3",
      "display_name": "Python 3"
    },
    "language_info": {
      "name": "python"
    }
  },
  "cells": [
    {
      "cell_type": "markdown",
      "metadata": {
        "id": "view-in-github",
        "colab_type": "text"
      },
      "source": [
        "<a href=\"https://colab.research.google.com/github/Netz00/Data-science/blob/main/labs/seminar/DataScienceProject.ipynb\" target=\"_parent\"><img src=\"https://colab.research.google.com/assets/colab-badge.svg\" alt=\"Open In Colab\"/></a>"
      ]
    },
    {
      "cell_type": "markdown",
      "source": [
        "<center><h1> Uvod u podatkovnu znanost  </h1></center>\n",
        "<center><h2> Analiza podataka o zaposlenicima FESB-a </h2></center> \n",
        "<center><h3> Seminar </h3></center> \n",
        "<center><h3> B. Durdov, D. Glavina  </h3></center> \n"
      ],
      "metadata": {
        "id": "nwbx4zvX-bvS"
      }
    },
    {
      "cell_type": "markdown",
      "source": [
        "Seminar se bavi prikupljanjem javno dostupnih podataka sa stranice https://nastava.fesb.unist.hr/nastava te njihovom obradom.\n",
        "Zatim te podatke kombinira s [Google Scholar](https://scholar.google.com/) podacima.\n",
        "Poglavlja\n",
        "1. Postavljanje okoline\n",
        "2. Dohvaćanje inicijalnih podataka\n",
        "3. Proširivanje inicijalnih podataka scrapingom\n",
        "4. Analiza proširenih podataka\n",
        "5. koraku se podaci spajaju s podacima Google Scholar-a te analiziraju.\n"
      ],
      "metadata": {
        "id": "ji56rPIZ89-5"
      }
    },
    {
      "cell_type": "markdown",
      "source": [
        "# Postavljanje okoline"
      ],
      "metadata": {
        "id": "kUO8g688nPPg"
      }
    },
    {
      "cell_type": "markdown",
      "source": [
        "Instalacija potrebnih biblioteka."
      ],
      "metadata": {
        "id": "UOOvOgNo92Lz"
      }
    },
    {
      "cell_type": "code",
      "source": [
        "!pip3 install pandas selenium beautifulsoup4 requests matplotlib seaborn\n",
        "import pandas as pd\n",
        "import numpy as np\n",
        "import requests\n",
        "from bs4 import BeautifulSoup\n",
        "import matplotlib.pyplot as plt\n",
        "import seaborn as sns\n",
        "import re"
      ],
      "metadata": {
        "id": "arzGbTW_-qck"
      },
      "execution_count": null,
      "outputs": []
    },
    {
      "cell_type": "code",
      "source": [
        "class display(object):\n",
        "    \"\"\"Display HTML representation of multiple objects\"\"\"\n",
        "    template = \"\"\"<div style=\"float: left; padding: 10px;\">\n",
        "    <p style='font-family:\"Courier New\", Courier, monospace'>{0}</p>{1}\n",
        "    </div>\"\"\"\n",
        "    def __init__(self, *args):\n",
        "        self.args = args\n",
        "        \n",
        "    def _repr_html_(self):\n",
        "        return '\\n'.join(self.template.format(a, eval(a)._repr_html_())\n",
        "                         for a in self.args)\n",
        "    \n",
        "    def __repr__(self):\n",
        "        return '\\n\\n'.join(a + '\\n' + repr(eval(a))\n",
        "                           for a in self.args)"
      ],
      "metadata": {
        "id": "jtx2IK52-z-d"
      },
      "execution_count": null,
      "outputs": []
    },
    {
      "cell_type": "markdown",
      "source": [
        "Konfiguriranje Seaborn palete boja."
      ],
      "metadata": {
        "id": "wL7OuydVOCkw"
      }
    },
    {
      "cell_type": "code",
      "source": [
        "# define Seaborn color palette to use\n",
        "palette_color = sns.color_palette('pastel')[0:5]\n"
      ],
      "metadata": {
        "id": "DYpTa4v-9xpm"
      },
      "execution_count": null,
      "outputs": []
    },
    {
      "cell_type": "markdown",
      "source": [
        "## Početni dataset\n",
        "Dataset je dobiven kopiranjem HTML tagova sa stranice [FESB nastava](https://nastava.fesb.unist.hr/nastava) i njegovim uređivanjem te pretvaranjem u .CSV format pomoću text editora VS Code\n",
        "  - Dvostruka imena i prezimena odvojena zarezom, detektirana su tako što se u Excelu vidi koji redak iskače, pa su se ručno grupirala odvojena razmakom.\n",
        "\n",
        "Postupak je ponovljen za djelatnike i vanjske suradnike što je rezultiralo s dvije datoteke:\n",
        "- [djelatnici.scv](./djelatnici.csv)\n",
        "- [vanjskiSuradnici.scv](./vanjskiSuradnici.csv)\n",
        "\n",
        "\n",
        "Zatim su podaci nastavnika i vanjskih suradnika spojeni u zajedničku datoteku [default.scv](./default.csv) s dodatnim stupcem `type` (djelatnik ili vanjski suradnik), nedostajući stupci kod vanjskih suradnika su ispunjeni NULL vrijednostima.\n",
        "\n",
        "Finalni [Dataset](./default.csv) sadržava:\n",
        "- lastName\n",
        "- firstName\n",
        "- detailsLink\n",
        "- image\n",
        "- deparment_short\n",
        "- location\n",
        "- details\n",
        "- type\n",
        "\n"
      ],
      "metadata": {
        "id": "C2Mj1EiYIpeo"
      }
    },
    {
      "cell_type": "code",
      "source": [
        "employees = pd.read_csv(\"djelatnici.csv\")\n",
        "\n",
        "print(employees.shape)\n",
        "employees.head()"
      ],
      "metadata": {
        "colab": {
          "base_uri": "https://localhost:8080/",
          "height": 224
        },
        "id": "mFa3mTDvN3hO",
        "outputId": "148fba3d-c593-498d-852b-a2e9a0564a02"
      },
      "execution_count": null,
      "outputs": [
        {
          "output_type": "stream",
          "name": "stdout",
          "text": [
            "(160, 6)\n"
          ]
        },
        {
          "output_type": "execute_result",
          "data": {
            "text/plain": [
              "                                         detailsLink  \\\n",
              "0  https://nastava.fesb.unist.hr/nastava/nastavni...   \n",
              "1  https://nastava.fesb.unist.hr/nastava/nastavni...   \n",
              "2  https://nastava.fesb.unist.hr/nastava/nastavni...   \n",
              "3  https://nastava.fesb.unist.hr/nastava/nastavni...   \n",
              "4  https://nastava.fesb.unist.hr/nastava/nastavni...   \n",
              "\n",
              "                                               image   lastName firstName  \\\n",
              "0                                                NaN  Aljinović    Amanda   \n",
              "1  https://korisnik.fesb.unist.hr/slika/mala/pstr...    Bagavac     Petra   \n",
              "2     https://korisnik.fesb.hr/slika/mala/dbajic.jpg      Bajić    Dražen   \n",
              "3   https://korisnik.fesb.hr/slika/mala/darioban.jpg        Ban     Dario   \n",
              "4    https://korisnik.fesb.hr/slika/mala/fbarbir.jpg     Barbir     Frano   \n",
              "\n",
              "  deparment_short location  \n",
              "0             ZPS     C405  \n",
              "1             ZSB     C705  \n",
              "2             ZPS     C411  \n",
              "3             ZSB     C804  \n",
              "4             ZSB     C513  "
            ],
            "text/html": [
              "\n",
              "  <div id=\"df-b7ac92f4-1115-419c-890f-00af1da188b5\">\n",
              "    <div class=\"colab-df-container\">\n",
              "      <div>\n",
              "<style scoped>\n",
              "    .dataframe tbody tr th:only-of-type {\n",
              "        vertical-align: middle;\n",
              "    }\n",
              "\n",
              "    .dataframe tbody tr th {\n",
              "        vertical-align: top;\n",
              "    }\n",
              "\n",
              "    .dataframe thead th {\n",
              "        text-align: right;\n",
              "    }\n",
              "</style>\n",
              "<table border=\"1\" class=\"dataframe\">\n",
              "  <thead>\n",
              "    <tr style=\"text-align: right;\">\n",
              "      <th></th>\n",
              "      <th>detailsLink</th>\n",
              "      <th>image</th>\n",
              "      <th>lastName</th>\n",
              "      <th>firstName</th>\n",
              "      <th>deparment_short</th>\n",
              "      <th>location</th>\n",
              "    </tr>\n",
              "  </thead>\n",
              "  <tbody>\n",
              "    <tr>\n",
              "      <th>0</th>\n",
              "      <td>https://nastava.fesb.unist.hr/nastava/nastavni...</td>\n",
              "      <td>NaN</td>\n",
              "      <td>Aljinović</td>\n",
              "      <td>Amanda</td>\n",
              "      <td>ZPS</td>\n",
              "      <td>C405</td>\n",
              "    </tr>\n",
              "    <tr>\n",
              "      <th>1</th>\n",
              "      <td>https://nastava.fesb.unist.hr/nastava/nastavni...</td>\n",
              "      <td>https://korisnik.fesb.unist.hr/slika/mala/pstr...</td>\n",
              "      <td>Bagavac</td>\n",
              "      <td>Petra</td>\n",
              "      <td>ZSB</td>\n",
              "      <td>C705</td>\n",
              "    </tr>\n",
              "    <tr>\n",
              "      <th>2</th>\n",
              "      <td>https://nastava.fesb.unist.hr/nastava/nastavni...</td>\n",
              "      <td>https://korisnik.fesb.hr/slika/mala/dbajic.jpg</td>\n",
              "      <td>Bajić</td>\n",
              "      <td>Dražen</td>\n",
              "      <td>ZPS</td>\n",
              "      <td>C411</td>\n",
              "    </tr>\n",
              "    <tr>\n",
              "      <th>3</th>\n",
              "      <td>https://nastava.fesb.unist.hr/nastava/nastavni...</td>\n",
              "      <td>https://korisnik.fesb.hr/slika/mala/darioban.jpg</td>\n",
              "      <td>Ban</td>\n",
              "      <td>Dario</td>\n",
              "      <td>ZSB</td>\n",
              "      <td>C804</td>\n",
              "    </tr>\n",
              "    <tr>\n",
              "      <th>4</th>\n",
              "      <td>https://nastava.fesb.unist.hr/nastava/nastavni...</td>\n",
              "      <td>https://korisnik.fesb.hr/slika/mala/fbarbir.jpg</td>\n",
              "      <td>Barbir</td>\n",
              "      <td>Frano</td>\n",
              "      <td>ZSB</td>\n",
              "      <td>C513</td>\n",
              "    </tr>\n",
              "  </tbody>\n",
              "</table>\n",
              "</div>\n",
              "      <button class=\"colab-df-convert\" onclick=\"convertToInteractive('df-b7ac92f4-1115-419c-890f-00af1da188b5')\"\n",
              "              title=\"Convert this dataframe to an interactive table.\"\n",
              "              style=\"display:none;\">\n",
              "        \n",
              "  <svg xmlns=\"http://www.w3.org/2000/svg\" height=\"24px\"viewBox=\"0 0 24 24\"\n",
              "       width=\"24px\">\n",
              "    <path d=\"M0 0h24v24H0V0z\" fill=\"none\"/>\n",
              "    <path d=\"M18.56 5.44l.94 2.06.94-2.06 2.06-.94-2.06-.94-.94-2.06-.94 2.06-2.06.94zm-11 1L8.5 8.5l.94-2.06 2.06-.94-2.06-.94L8.5 2.5l-.94 2.06-2.06.94zm10 10l.94 2.06.94-2.06 2.06-.94-2.06-.94-.94-2.06-.94 2.06-2.06.94z\"/><path d=\"M17.41 7.96l-1.37-1.37c-.4-.4-.92-.59-1.43-.59-.52 0-1.04.2-1.43.59L10.3 9.45l-7.72 7.72c-.78.78-.78 2.05 0 2.83L4 21.41c.39.39.9.59 1.41.59.51 0 1.02-.2 1.41-.59l7.78-7.78 2.81-2.81c.8-.78.8-2.07 0-2.86zM5.41 20L4 18.59l7.72-7.72 1.47 1.35L5.41 20z\"/>\n",
              "  </svg>\n",
              "      </button>\n",
              "      \n",
              "  <style>\n",
              "    .colab-df-container {\n",
              "      display:flex;\n",
              "      flex-wrap:wrap;\n",
              "      gap: 12px;\n",
              "    }\n",
              "\n",
              "    .colab-df-convert {\n",
              "      background-color: #E8F0FE;\n",
              "      border: none;\n",
              "      border-radius: 50%;\n",
              "      cursor: pointer;\n",
              "      display: none;\n",
              "      fill: #1967D2;\n",
              "      height: 32px;\n",
              "      padding: 0 0 0 0;\n",
              "      width: 32px;\n",
              "    }\n",
              "\n",
              "    .colab-df-convert:hover {\n",
              "      background-color: #E2EBFA;\n",
              "      box-shadow: 0px 1px 2px rgba(60, 64, 67, 0.3), 0px 1px 3px 1px rgba(60, 64, 67, 0.15);\n",
              "      fill: #174EA6;\n",
              "    }\n",
              "\n",
              "    [theme=dark] .colab-df-convert {\n",
              "      background-color: #3B4455;\n",
              "      fill: #D2E3FC;\n",
              "    }\n",
              "\n",
              "    [theme=dark] .colab-df-convert:hover {\n",
              "      background-color: #434B5C;\n",
              "      box-shadow: 0px 1px 3px 1px rgba(0, 0, 0, 0.15);\n",
              "      filter: drop-shadow(0px 1px 2px rgba(0, 0, 0, 0.3));\n",
              "      fill: #FFFFFF;\n",
              "    }\n",
              "  </style>\n",
              "\n",
              "      <script>\n",
              "        const buttonEl =\n",
              "          document.querySelector('#df-b7ac92f4-1115-419c-890f-00af1da188b5 button.colab-df-convert');\n",
              "        buttonEl.style.display =\n",
              "          google.colab.kernel.accessAllowed ? 'block' : 'none';\n",
              "\n",
              "        async function convertToInteractive(key) {\n",
              "          const element = document.querySelector('#df-b7ac92f4-1115-419c-890f-00af1da188b5');\n",
              "          const dataTable =\n",
              "            await google.colab.kernel.invokeFunction('convertToInteractive',\n",
              "                                                     [key], {});\n",
              "          if (!dataTable) return;\n",
              "\n",
              "          const docLinkHtml = 'Like what you see? Visit the ' +\n",
              "            '<a target=\"_blank\" href=https://colab.research.google.com/notebooks/data_table.ipynb>data table notebook</a>'\n",
              "            + ' to learn more about interactive tables.';\n",
              "          element.innerHTML = '';\n",
              "          dataTable['output_type'] = 'display_data';\n",
              "          await google.colab.output.renderOutput(dataTable, element);\n",
              "          const docLink = document.createElement('div');\n",
              "          docLink.innerHTML = docLinkHtml;\n",
              "          element.appendChild(docLink);\n",
              "        }\n",
              "      </script>\n",
              "    </div>\n",
              "  </div>\n",
              "  "
            ]
          },
          "metadata": {},
          "execution_count": 9
        }
      ]
    },
    {
      "cell_type": "code",
      "source": [
        "employees = pd.read_csv(\"vanjskiSuradnici.csv\")\n",
        "\n",
        "print(employees.shape)\n",
        "employees.head()"
      ],
      "metadata": {
        "colab": {
          "base_uri": "https://localhost:8080/",
          "height": 224
        },
        "id": "NUXRY98cN3_U",
        "outputId": "509f7d5f-5ac5-4243-d628-751ee65678a4"
      },
      "execution_count": null,
      "outputs": [
        {
          "output_type": "stream",
          "name": "stdout",
          "text": [
            "(116, 4)\n"
          ]
        },
        {
          "output_type": "execute_result",
          "data": {
            "text/plain": [
              "                                         detailsLink image lastName firstName\n",
              "0  https://nastava.fesb.unist.hr/nastava/nastavni...   NaN    Babić     Josip\n",
              "1  https://nastava.fesb.unist.hr/nastava/nastavni...   NaN  Baković  Miljenko\n",
              "2  https://nastava.fesb.unist.hr/nastava/nastavni...   NaN  Barišić     Marko\n",
              "3  https://nastava.fesb.unist.hr/nastava/nastavni...   NaN    Bašić   Martina\n",
              "4  https://nastava.fesb.unist.hr/nastava/nastavni...   NaN  Batalić     Neven"
            ],
            "text/html": [
              "\n",
              "  <div id=\"df-d64b3ffb-7998-4e6d-b6cb-9be4e731a274\">\n",
              "    <div class=\"colab-df-container\">\n",
              "      <div>\n",
              "<style scoped>\n",
              "    .dataframe tbody tr th:only-of-type {\n",
              "        vertical-align: middle;\n",
              "    }\n",
              "\n",
              "    .dataframe tbody tr th {\n",
              "        vertical-align: top;\n",
              "    }\n",
              "\n",
              "    .dataframe thead th {\n",
              "        text-align: right;\n",
              "    }\n",
              "</style>\n",
              "<table border=\"1\" class=\"dataframe\">\n",
              "  <thead>\n",
              "    <tr style=\"text-align: right;\">\n",
              "      <th></th>\n",
              "      <th>detailsLink</th>\n",
              "      <th>image</th>\n",
              "      <th>lastName</th>\n",
              "      <th>firstName</th>\n",
              "    </tr>\n",
              "  </thead>\n",
              "  <tbody>\n",
              "    <tr>\n",
              "      <th>0</th>\n",
              "      <td>https://nastava.fesb.unist.hr/nastava/nastavni...</td>\n",
              "      <td>NaN</td>\n",
              "      <td>Babić</td>\n",
              "      <td>Josip</td>\n",
              "    </tr>\n",
              "    <tr>\n",
              "      <th>1</th>\n",
              "      <td>https://nastava.fesb.unist.hr/nastava/nastavni...</td>\n",
              "      <td>NaN</td>\n",
              "      <td>Baković</td>\n",
              "      <td>Miljenko</td>\n",
              "    </tr>\n",
              "    <tr>\n",
              "      <th>2</th>\n",
              "      <td>https://nastava.fesb.unist.hr/nastava/nastavni...</td>\n",
              "      <td>NaN</td>\n",
              "      <td>Barišić</td>\n",
              "      <td>Marko</td>\n",
              "    </tr>\n",
              "    <tr>\n",
              "      <th>3</th>\n",
              "      <td>https://nastava.fesb.unist.hr/nastava/nastavni...</td>\n",
              "      <td>NaN</td>\n",
              "      <td>Bašić</td>\n",
              "      <td>Martina</td>\n",
              "    </tr>\n",
              "    <tr>\n",
              "      <th>4</th>\n",
              "      <td>https://nastava.fesb.unist.hr/nastava/nastavni...</td>\n",
              "      <td>NaN</td>\n",
              "      <td>Batalić</td>\n",
              "      <td>Neven</td>\n",
              "    </tr>\n",
              "  </tbody>\n",
              "</table>\n",
              "</div>\n",
              "      <button class=\"colab-df-convert\" onclick=\"convertToInteractive('df-d64b3ffb-7998-4e6d-b6cb-9be4e731a274')\"\n",
              "              title=\"Convert this dataframe to an interactive table.\"\n",
              "              style=\"display:none;\">\n",
              "        \n",
              "  <svg xmlns=\"http://www.w3.org/2000/svg\" height=\"24px\"viewBox=\"0 0 24 24\"\n",
              "       width=\"24px\">\n",
              "    <path d=\"M0 0h24v24H0V0z\" fill=\"none\"/>\n",
              "    <path d=\"M18.56 5.44l.94 2.06.94-2.06 2.06-.94-2.06-.94-.94-2.06-.94 2.06-2.06.94zm-11 1L8.5 8.5l.94-2.06 2.06-.94-2.06-.94L8.5 2.5l-.94 2.06-2.06.94zm10 10l.94 2.06.94-2.06 2.06-.94-2.06-.94-.94-2.06-.94 2.06-2.06.94z\"/><path d=\"M17.41 7.96l-1.37-1.37c-.4-.4-.92-.59-1.43-.59-.52 0-1.04.2-1.43.59L10.3 9.45l-7.72 7.72c-.78.78-.78 2.05 0 2.83L4 21.41c.39.39.9.59 1.41.59.51 0 1.02-.2 1.41-.59l7.78-7.78 2.81-2.81c.8-.78.8-2.07 0-2.86zM5.41 20L4 18.59l7.72-7.72 1.47 1.35L5.41 20z\"/>\n",
              "  </svg>\n",
              "      </button>\n",
              "      \n",
              "  <style>\n",
              "    .colab-df-container {\n",
              "      display:flex;\n",
              "      flex-wrap:wrap;\n",
              "      gap: 12px;\n",
              "    }\n",
              "\n",
              "    .colab-df-convert {\n",
              "      background-color: #E8F0FE;\n",
              "      border: none;\n",
              "      border-radius: 50%;\n",
              "      cursor: pointer;\n",
              "      display: none;\n",
              "      fill: #1967D2;\n",
              "      height: 32px;\n",
              "      padding: 0 0 0 0;\n",
              "      width: 32px;\n",
              "    }\n",
              "\n",
              "    .colab-df-convert:hover {\n",
              "      background-color: #E2EBFA;\n",
              "      box-shadow: 0px 1px 2px rgba(60, 64, 67, 0.3), 0px 1px 3px 1px rgba(60, 64, 67, 0.15);\n",
              "      fill: #174EA6;\n",
              "    }\n",
              "\n",
              "    [theme=dark] .colab-df-convert {\n",
              "      background-color: #3B4455;\n",
              "      fill: #D2E3FC;\n",
              "    }\n",
              "\n",
              "    [theme=dark] .colab-df-convert:hover {\n",
              "      background-color: #434B5C;\n",
              "      box-shadow: 0px 1px 3px 1px rgba(0, 0, 0, 0.15);\n",
              "      filter: drop-shadow(0px 1px 2px rgba(0, 0, 0, 0.3));\n",
              "      fill: #FFFFFF;\n",
              "    }\n",
              "  </style>\n",
              "\n",
              "      <script>\n",
              "        const buttonEl =\n",
              "          document.querySelector('#df-d64b3ffb-7998-4e6d-b6cb-9be4e731a274 button.colab-df-convert');\n",
              "        buttonEl.style.display =\n",
              "          google.colab.kernel.accessAllowed ? 'block' : 'none';\n",
              "\n",
              "        async function convertToInteractive(key) {\n",
              "          const element = document.querySelector('#df-d64b3ffb-7998-4e6d-b6cb-9be4e731a274');\n",
              "          const dataTable =\n",
              "            await google.colab.kernel.invokeFunction('convertToInteractive',\n",
              "                                                     [key], {});\n",
              "          if (!dataTable) return;\n",
              "\n",
              "          const docLinkHtml = 'Like what you see? Visit the ' +\n",
              "            '<a target=\"_blank\" href=https://colab.research.google.com/notebooks/data_table.ipynb>data table notebook</a>'\n",
              "            + ' to learn more about interactive tables.';\n",
              "          element.innerHTML = '';\n",
              "          dataTable['output_type'] = 'display_data';\n",
              "          await google.colab.output.renderOutput(dataTable, element);\n",
              "          const docLink = document.createElement('div');\n",
              "          docLink.innerHTML = docLinkHtml;\n",
              "          element.appendChild(docLink);\n",
              "        }\n",
              "      </script>\n",
              "    </div>\n",
              "  </div>\n",
              "  "
            ]
          },
          "metadata": {},
          "execution_count": 10
        }
      ]
    },
    {
      "cell_type": "code",
      "source": [
        "employees = pd.read_csv(\"default.csv\")\n",
        "\n",
        "print(employees.shape)\n",
        "employees.head()"
      ],
      "metadata": {
        "id": "zrUfrhGg-42U",
        "colab": {
          "base_uri": "https://localhost:8080/",
          "height": 224
        },
        "outputId": "94a40cbb-2081-4244-d4bd-a412f39721a5"
      },
      "execution_count": null,
      "outputs": [
        {
          "output_type": "stream",
          "name": "stdout",
          "text": [
            "(276, 7)\n"
          ]
        },
        {
          "output_type": "execute_result",
          "data": {
            "text/plain": [
              "                                         detailsLink  \\\n",
              "0  https://nastava.fesb.unist.hr/nastava/nastavni...   \n",
              "1  https://nastava.fesb.unist.hr/nastava/nastavni...   \n",
              "2  https://nastava.fesb.unist.hr/nastava/nastavni...   \n",
              "3  https://nastava.fesb.unist.hr/nastava/nastavni...   \n",
              "4  https://nastava.fesb.unist.hr/nastava/nastavni...   \n",
              "\n",
              "                                               image   lastName firstName  \\\n",
              "0                                                NaN  Aljinović    Amanda   \n",
              "1  https://korisnik.fesb.unist.hr/slika/mala/pstr...    Bagavac     Petra   \n",
              "2     https://korisnik.fesb.hr/slika/mala/dbajic.jpg      Bajić    Dražen   \n",
              "3   https://korisnik.fesb.hr/slika/mala/darioban.jpg        Ban     Dario   \n",
              "4    https://korisnik.fesb.hr/slika/mala/fbarbir.jpg     Barbir     Frano   \n",
              "\n",
              "  deparment_short location       type  \n",
              "0             ZPS     C405  djelatnik  \n",
              "1             ZSB     C705  djelatnik  \n",
              "2             ZPS     C411  djelatnik  \n",
              "3             ZSB     C804  djelatnik  \n",
              "4             ZSB     C513  djelatnik  "
            ],
            "text/html": [
              "\n",
              "  <div id=\"df-a460750b-5833-43dc-b286-80da03e1a8f0\">\n",
              "    <div class=\"colab-df-container\">\n",
              "      <div>\n",
              "<style scoped>\n",
              "    .dataframe tbody tr th:only-of-type {\n",
              "        vertical-align: middle;\n",
              "    }\n",
              "\n",
              "    .dataframe tbody tr th {\n",
              "        vertical-align: top;\n",
              "    }\n",
              "\n",
              "    .dataframe thead th {\n",
              "        text-align: right;\n",
              "    }\n",
              "</style>\n",
              "<table border=\"1\" class=\"dataframe\">\n",
              "  <thead>\n",
              "    <tr style=\"text-align: right;\">\n",
              "      <th></th>\n",
              "      <th>detailsLink</th>\n",
              "      <th>image</th>\n",
              "      <th>lastName</th>\n",
              "      <th>firstName</th>\n",
              "      <th>deparment_short</th>\n",
              "      <th>location</th>\n",
              "      <th>type</th>\n",
              "    </tr>\n",
              "  </thead>\n",
              "  <tbody>\n",
              "    <tr>\n",
              "      <th>0</th>\n",
              "      <td>https://nastava.fesb.unist.hr/nastava/nastavni...</td>\n",
              "      <td>NaN</td>\n",
              "      <td>Aljinović</td>\n",
              "      <td>Amanda</td>\n",
              "      <td>ZPS</td>\n",
              "      <td>C405</td>\n",
              "      <td>djelatnik</td>\n",
              "    </tr>\n",
              "    <tr>\n",
              "      <th>1</th>\n",
              "      <td>https://nastava.fesb.unist.hr/nastava/nastavni...</td>\n",
              "      <td>https://korisnik.fesb.unist.hr/slika/mala/pstr...</td>\n",
              "      <td>Bagavac</td>\n",
              "      <td>Petra</td>\n",
              "      <td>ZSB</td>\n",
              "      <td>C705</td>\n",
              "      <td>djelatnik</td>\n",
              "    </tr>\n",
              "    <tr>\n",
              "      <th>2</th>\n",
              "      <td>https://nastava.fesb.unist.hr/nastava/nastavni...</td>\n",
              "      <td>https://korisnik.fesb.hr/slika/mala/dbajic.jpg</td>\n",
              "      <td>Bajić</td>\n",
              "      <td>Dražen</td>\n",
              "      <td>ZPS</td>\n",
              "      <td>C411</td>\n",
              "      <td>djelatnik</td>\n",
              "    </tr>\n",
              "    <tr>\n",
              "      <th>3</th>\n",
              "      <td>https://nastava.fesb.unist.hr/nastava/nastavni...</td>\n",
              "      <td>https://korisnik.fesb.hr/slika/mala/darioban.jpg</td>\n",
              "      <td>Ban</td>\n",
              "      <td>Dario</td>\n",
              "      <td>ZSB</td>\n",
              "      <td>C804</td>\n",
              "      <td>djelatnik</td>\n",
              "    </tr>\n",
              "    <tr>\n",
              "      <th>4</th>\n",
              "      <td>https://nastava.fesb.unist.hr/nastava/nastavni...</td>\n",
              "      <td>https://korisnik.fesb.hr/slika/mala/fbarbir.jpg</td>\n",
              "      <td>Barbir</td>\n",
              "      <td>Frano</td>\n",
              "      <td>ZSB</td>\n",
              "      <td>C513</td>\n",
              "      <td>djelatnik</td>\n",
              "    </tr>\n",
              "  </tbody>\n",
              "</table>\n",
              "</div>\n",
              "      <button class=\"colab-df-convert\" onclick=\"convertToInteractive('df-a460750b-5833-43dc-b286-80da03e1a8f0')\"\n",
              "              title=\"Convert this dataframe to an interactive table.\"\n",
              "              style=\"display:none;\">\n",
              "        \n",
              "  <svg xmlns=\"http://www.w3.org/2000/svg\" height=\"24px\"viewBox=\"0 0 24 24\"\n",
              "       width=\"24px\">\n",
              "    <path d=\"M0 0h24v24H0V0z\" fill=\"none\"/>\n",
              "    <path d=\"M18.56 5.44l.94 2.06.94-2.06 2.06-.94-2.06-.94-.94-2.06-.94 2.06-2.06.94zm-11 1L8.5 8.5l.94-2.06 2.06-.94-2.06-.94L8.5 2.5l-.94 2.06-2.06.94zm10 10l.94 2.06.94-2.06 2.06-.94-2.06-.94-.94-2.06-.94 2.06-2.06.94z\"/><path d=\"M17.41 7.96l-1.37-1.37c-.4-.4-.92-.59-1.43-.59-.52 0-1.04.2-1.43.59L10.3 9.45l-7.72 7.72c-.78.78-.78 2.05 0 2.83L4 21.41c.39.39.9.59 1.41.59.51 0 1.02-.2 1.41-.59l7.78-7.78 2.81-2.81c.8-.78.8-2.07 0-2.86zM5.41 20L4 18.59l7.72-7.72 1.47 1.35L5.41 20z\"/>\n",
              "  </svg>\n",
              "      </button>\n",
              "      \n",
              "  <style>\n",
              "    .colab-df-container {\n",
              "      display:flex;\n",
              "      flex-wrap:wrap;\n",
              "      gap: 12px;\n",
              "    }\n",
              "\n",
              "    .colab-df-convert {\n",
              "      background-color: #E8F0FE;\n",
              "      border: none;\n",
              "      border-radius: 50%;\n",
              "      cursor: pointer;\n",
              "      display: none;\n",
              "      fill: #1967D2;\n",
              "      height: 32px;\n",
              "      padding: 0 0 0 0;\n",
              "      width: 32px;\n",
              "    }\n",
              "\n",
              "    .colab-df-convert:hover {\n",
              "      background-color: #E2EBFA;\n",
              "      box-shadow: 0px 1px 2px rgba(60, 64, 67, 0.3), 0px 1px 3px 1px rgba(60, 64, 67, 0.15);\n",
              "      fill: #174EA6;\n",
              "    }\n",
              "\n",
              "    [theme=dark] .colab-df-convert {\n",
              "      background-color: #3B4455;\n",
              "      fill: #D2E3FC;\n",
              "    }\n",
              "\n",
              "    [theme=dark] .colab-df-convert:hover {\n",
              "      background-color: #434B5C;\n",
              "      box-shadow: 0px 1px 3px 1px rgba(0, 0, 0, 0.15);\n",
              "      filter: drop-shadow(0px 1px 2px rgba(0, 0, 0, 0.3));\n",
              "      fill: #FFFFFF;\n",
              "    }\n",
              "  </style>\n",
              "\n",
              "      <script>\n",
              "        const buttonEl =\n",
              "          document.querySelector('#df-a460750b-5833-43dc-b286-80da03e1a8f0 button.colab-df-convert');\n",
              "        buttonEl.style.display =\n",
              "          google.colab.kernel.accessAllowed ? 'block' : 'none';\n",
              "\n",
              "        async function convertToInteractive(key) {\n",
              "          const element = document.querySelector('#df-a460750b-5833-43dc-b286-80da03e1a8f0');\n",
              "          const dataTable =\n",
              "            await google.colab.kernel.invokeFunction('convertToInteractive',\n",
              "                                                     [key], {});\n",
              "          if (!dataTable) return;\n",
              "\n",
              "          const docLinkHtml = 'Like what you see? Visit the ' +\n",
              "            '<a target=\"_blank\" href=https://colab.research.google.com/notebooks/data_table.ipynb>data table notebook</a>'\n",
              "            + ' to learn more about interactive tables.';\n",
              "          element.innerHTML = '';\n",
              "          dataTable['output_type'] = 'display_data';\n",
              "          await google.colab.output.renderOutput(dataTable, element);\n",
              "          const docLink = document.createElement('div');\n",
              "          docLink.innerHTML = docLinkHtml;\n",
              "          element.appendChild(docLink);\n",
              "        }\n",
              "      </script>\n",
              "    </div>\n",
              "  </div>\n",
              "  "
            ]
          },
          "metadata": {},
          "execution_count": 11
        }
      ]
    },
    {
      "cell_type": "markdown",
      "source": [
        "## Određivanje spola\n",
        "Sljedeći korak je obogatiti dataset inflormacijom o spolu, te rezultira s proširenim datasetom [defaultSex](./defaultSex.csv).\n",
        "\n",
        "Određivanje spola temelji se na temelju imena i iskustvu procjenitelja\n",
        "\n",
        "Koraci:\n",
        "1.   Izvući sva jedinstvena imena\n",
        "2.   Izvući zadnja dva znaka iz tih imena\n",
        "3.   Izvući sve jedinstvene parove tih znakova"
      ],
      "metadata": {
        "id": "4jfKYHq4_xyC"
      }
    },
    {
      "cell_type": "code",
      "source": [
        "# agregiraj imena\n",
        "vc = employees.groupby([\"firstName\"])[\"firstName\"].count()\n",
        "\n",
        "# izvuci samo zadja dva znaka svih imena\n",
        "vc=vc.index\n",
        "lastChars=[]\n",
        "for name in vc:\n",
        "    lastChars.append(name[-2:])\n",
        "\n",
        "# agregiraj zadnja dva znaka imena\n",
        "d={'chars': lastChars}\n",
        "df = pd.DataFrame(data=d)\n",
        "df= df.groupby([\"chars\"])[\"chars\"].count()\n",
        "\n",
        "print(df.index.tolist())"
      ],
      "metadata": {
        "id": "9Rn0Zc6G_03R",
        "colab": {
          "base_uri": "https://localhost:8080/"
        },
        "outputId": "d31fd032-834c-4717-dc16-e8b7c121ea9c"
      },
      "execution_count": null,
      "outputs": [
        {
          "output_type": "stream",
          "name": "stdout",
          "text": [
            "['an', 'ao', 'ar', 'av', 'ca', 'da', 'ea', 'el', 'en', 'eo', 'ia', 'il', 'in', 'io', 'ip', 'ir', 'is', 'ja', 'je', 'jo', 'ka', 'ko', 'la', 'li', 'na', 'ne', 'ni', 'no', 'nt', 'oj', 'or', 'ov', 'pa', 'pe', 'po', 'ra', 're', 'ri', 'ro', 'rt', 'ta', 'te', 'ul', 'vo', 'ći', 'ša', 'šo', 'ža', 'žo']\n"
          ]
        }
      ]
    },
    {
      "cell_type": "markdown",
      "source": [
        "Obraditi prethodno generirani niz, tako da se za svaki znak provjerava:\n",
        "- ako su sva muška imena, staviti taj niz s dva znaka u redak MALE\n",
        "- ako su sva zenska imena stavit taj niz od dva znaka u redak FEMALE\n",
        "- inace stavit u neodredeno\n",
        "\n",
        "Za sve neodredjene proširiti rucno niz za 1 znak, ponovit postupak, i nastavit širenje dok UNKNOWN nije prazno ili nailaska korištenja UNISEX imena."
      ],
      "metadata": {
        "id": "LRho331wALSt"
      }
    },
    {
      "cell_type": "code",
      "source": [
        "male = ['an', 'ao', 'ar', 'av', 'el', 'en', 'eo', 'il', 'in', 'io', 'ip', 'ir', 'je', 'jo', 'ko', 'li', 'ne', 'no', 'nt', 'oj', 'or', 'ov', 'pe', 'po', 're', 'ri', 'ro', 'rt', 'te', 'ul', 'vo', 'ći', 'ša', 'žo', 'ni', 'vica', 'rica', 'is', 'drija', 'tija', 'lja', 'ola']\n",
        "female = ['da', 'ea', 'ia', 'ka', 'na', 'pa', 'ra', 'ta', 'ža', 'čica', 'tica', 'arija', 'nja', 'aja', 'ela', 'rla', 'ila']"
      ],
      "metadata": {
        "id": "exshJdWGRcqh"
      },
      "execution_count": null,
      "outputs": []
    },
    {
      "cell_type": "markdown",
      "source": [
        "Sortirati nizove po duljima elemenata."
      ],
      "metadata": {
        "id": "SwXxNQVlAUlK"
      }
    },
    {
      "cell_type": "code",
      "source": [
        "# Sort by length of ending pattern\n",
        "maleByLength=sorted(male, key=len, reverse=True)\n",
        "femaleByLength=sorted(female, key=len, reverse=True)\n",
        "print(\"male = \",maleByLength)\n",
        "print(\"female = \",femaleByLength)"
      ],
      "metadata": {
        "id": "3VtyO8AeAcEL",
        "colab": {
          "base_uri": "https://localhost:8080/"
        },
        "outputId": "311a578c-cd5f-4c04-9220-78acb75c5b94"
      },
      "execution_count": null,
      "outputs": [
        {
          "output_type": "stream",
          "name": "stdout",
          "text": [
            "male =  ['drija', 'vica', 'rica', 'tija', 'lja', 'ola', 'an', 'ao', 'ar', 'av', 'el', 'en', 'eo', 'il', 'in', 'io', 'ip', 'ir', 'je', 'jo', 'ko', 'li', 'ne', 'no', 'nt', 'oj', 'or', 'ov', 'pe', 'po', 're', 'ri', 'ro', 'rt', 'te', 'ul', 'vo', 'ći', 'ša', 'žo', 'ni', 'is']\n",
            "female =  ['arija', 'čica', 'tica', 'nja', 'aja', 'ela', 'rla', 'ila', 'da', 'ea', 'ia', 'ka', 'na', 'pa', 'ra', 'ta', 'ža']\n"
          ]
        }
      ]
    },
    {
      "cell_type": "markdown",
      "source": [
        "Izgraditit pravila za odlučivanje radi li se o muškom ili ženskom imenu pomoću prethodnih lista na sljedeći način:\n",
        "1. Grupirati elemente listi po duljini\n",
        "2. Ispituje se jeli ime završava s jednim od elemenata iz te grupe\n",
        "3. Ispitivanje se vrši od dužih prema kraćim sekvencama"
      ],
      "metadata": {
        "id": "qBnaLCQsAi2g"
      }
    },
    {
      "cell_type": "code",
      "source": [
        "# group sections of same length and check if NAME ends with the pattern\n",
        "def getSexByFirstName(name):\n",
        "    name.lower()\n",
        "    if (re.search(\"(drija|vica|rica|tija)$\", name)!=None):\n",
        "        return 'MALE'\n",
        "    elif (re.search(\"(arija)$\", name)!=None):\n",
        "        return 'FEMALE'\n",
        "    elif (re.search(\"(čica|tica)$\", name)!=None):\n",
        "        return 'FEMALE'\n",
        "    elif (re.search(\"(nja|aja|ela|rla|ila)$\", name)!=None):\n",
        "        return 'FEMALE'\n",
        "    elif (re.search(\"(lja|ola)$\", name)!=None):\n",
        "        return 'MALE'\n",
        "    elif (re.search(\"(an|ao|ar|av|el|en|eo|il|in|io|ip|ir|je|jo|ko|li|ne|no|nt|oj|or|ov|pe|po|re|ri|ro|rt|te|ul|vo|ći|ša|žo|ni|is)$\", name)!=None):\n",
        "        return 'MALE'\n",
        "    elif (re.search(\"(da|ea|ia|ka|na|pa|ra|ta|ža)$\", name)!=None):\n",
        "        return 'FEMALE'            \n",
        "\n",
        "# TEST\n",
        "print(getSexByFirstName(\"Stipe\"))\n",
        "print(getSexByFirstName(\"Ante\"))"
      ],
      "metadata": {
        "colab": {
          "base_uri": "https://localhost:8080/"
        },
        "id": "P4yOAa0SAsFi",
        "outputId": "34cbbdb5-fbd3-4a46-f4ef-0b8dd433e482"
      },
      "execution_count": null,
      "outputs": [
        {
          "output_type": "stream",
          "name": "stdout",
          "text": [
            "MALE\n",
            "MALE\n"
          ]
        }
      ]
    },
    {
      "cell_type": "markdown",
      "source": [
        "Koristeći prethodnu funkciju odrediti spol za svaki redak i spremiti rezultate u `defaultSex.csv`.\n",
        "\n",
        "``` bash\n",
        "❗ Ručno izbrisati defaultSex.csv ukoliko postoji već da bi se promjene spremile.\n",
        "```\n",
        "``` python\n",
        "# Wont't work!\n",
        "import os\n",
        "os.remove(\"defaultSex.csv\")\n",
        "```"
      ],
      "metadata": {
        "id": "hhJisPcqBBGD"
      }
    },
    {
      "cell_type": "code",
      "source": [
        "# Add new column\n",
        "employees['sex'] = \"\"     \n",
        "    \n",
        "for index, row in employees.iterrows():\n",
        "    employees.at[index,'sex'] = getSexByFirstName(row['firstName'])\n",
        "\n",
        "# Save updated dataframe\n",
        "employees.to_csv('defaultSex.csv')"
      ],
      "metadata": {
        "id": "hj639hudBRJ-"
      },
      "execution_count": null,
      "outputs": []
    },
    {
      "cell_type": "markdown",
      "source": [
        "# Scraping\n"
      ],
      "metadata": {
        "id": "tolM9tOhuOuB"
      }
    },
    {
      "cell_type": "markdown",
      "source": [
        "Koristeći `detailsLink` stupac scrape-ati dodatne podatke za svakog zaposlenika.\n",
        "Dodatni podaci (stupci) su:\n",
        "- e-mail adresa\n",
        "- lokacija ureda\n",
        "- zavod\n",
        "- titula\n",
        "- pozicija\n",
        "\n",
        "Korak rezultira s proširenim datasetom [defaultSexScrape.csv](./defaultSexScrape.csv)."
      ],
      "metadata": {
        "id": "MeTJciin6HFS"
      }
    },
    {
      "cell_type": "markdown",
      "source": [
        "## Definiranje scraping funkcija\n",
        "- izrada custom funkcija za scraping\n",
        "- pisanje testova za funkcije"
      ],
      "metadata": {
        "id": "r6OgK9jIWqr5"
      }
    },
    {
      "cell_type": "markdown",
      "source": [
        "Definirajmo funkcije za dohvaćanje:\n",
        "- putem linka HTML stranice\n",
        "  - putem HTML stranice \n",
        "    - e-mail adrese\n",
        "    - lokacije ureda\n",
        "    - zavoda\n",
        "    - titule\n",
        "    - pozicije\n"
      ],
      "metadata": {
        "id": "9YHM4Pck_Yoq"
      }
    },
    {
      "cell_type": "code",
      "source": [
        "def getPageFromLink(link):\n",
        "    page = requests.get(link)\n",
        "    if page.status_code != 200:\n",
        "        # print(\"status code: \", page.status_code)\n",
        "        return None\n",
        "    soup = BeautifulSoup(page.content, 'html.parser')\n",
        "    return soup\n",
        "\n",
        "def getEmailFromDetailsPage(soup):\n",
        "    if soup is None:\n",
        "      return 'NULL'\n",
        "    email = soup.find('div', attrs={'class':'infoItem mail clearfix'}).select(\"div a\")[0].text\n",
        "    return email\n",
        "\n",
        "def getLocationFromDetailsPage(soup):\n",
        "    if soup is None:\n",
        "      return 'NULL'\n",
        "    location = soup.find('div', attrs={'class':'infoContent'}).text\n",
        "    location=re.search(r\"([A-C]{1}\\d{3})\", location)\n",
        "    if location:\n",
        "        return location.group()\n",
        "    else:\n",
        "        return 'NULL'\n",
        "\n",
        "def getDepartmentFromDetailsPage(soup):\n",
        "    if soup is None:\n",
        "      return 'NULL'\n",
        "    department = soup.select('#user-info > div.sidebar > div.userGeneralInfo > div.infoItem.location.clearfix > div.infoContent')\n",
        "    if not department:\n",
        "        return 'NULL'\n",
        "    department = department[0].text\n",
        "    department=re.search(r\"(\\s*)(.+)(,\\s*)([A-Z][1-9][0-9]{2})(\\s+)$\", department)\n",
        "    if department:\n",
        "        return department.group(2)\n",
        "    else:\n",
        "        return 'NULL'\n",
        "\n",
        "def getTitleFromDetailsPage(soup):\n",
        "    if soup is None:\n",
        "      return 'NULL'\n",
        "    title = soup.select('#user-info > div.heading.clearfix > div > div > span.title')\n",
        "    if not title:\n",
        "        return 'NULL'\n",
        "    title = title[0].text\n",
        "    if title == \"\":\n",
        "        return 'NULL'\n",
        "    else:\n",
        "        return title\n",
        "\n",
        "def getPositionFromDetailsPage(soup):\n",
        "    if soup is None:\n",
        "      return 'NULL'\n",
        "    position = soup.select('#user-info > div.heading.clearfix > div > div > span.position')\n",
        "    if not position:\n",
        "        return 'NULL'\n",
        "    position = position[0].text\n",
        "    if position == \"\":\n",
        "        return 'NULL'\n",
        "    else:\n",
        "        return position\n",
        "\n",
        "# TEST\n",
        "\n",
        "tests=[\n",
        "          {\n",
        "              'url':'https://nastava.fesb.unist.hr/nastava/nastavnici/detalji/mdujmovic',\n",
        "              'email':'Miroslav.Dujmovic@fesb.hr',\n",
        "              'location':'NULL',\n",
        "              'department':'NULL',\n",
        "              'title':'mr. sc.',\n",
        "              'position':'naslovno zvanje asistent'\n",
        "          },\n",
        "          {\n",
        "              'url':'https://nastava.fesb.unist.hr/nastava/nastavnici/detalji/idjapic',\n",
        "              'email':'NULL',\n",
        "              'location':'NULL',\n",
        "              'department':'NULL',\n",
        "              'title':'NULL',\n",
        "              'position':'NULL'\n",
        "          },\n",
        "          {\n",
        "              'url':'https://nastava.fesb.unist.hr/nastava/nastavnici/detalji/dbajic',\n",
        "              'email':'Drazen.Bajic@fesb.hr',\n",
        "              'location':'NULL',\n",
        "              'department':'Zavod za proizvodno strojarstvo',\n",
        "              'title':'dr. sc.',\n",
        "              'position':'redoviti profesor - trajno zvanje'\n",
        "          },\n",
        "          {\n",
        "              'url':'https://nastava.fesb.unist.hr/nastava/nastavnici/detalji/mandru00',\n",
        "              'email':'Martina.Andrun.00@fesb.hr',\n",
        "              'location':'C807',\n",
        "              'department':'Zavod za strojarstvo i brodogradnju',\n",
        "              'title':'mag. ing.',\n",
        "              'position':'asistent'\n",
        "          },\n",
        "          {\n",
        "              'url':'https://nastava.fesb.unist.hr/nastava/nastavnici/detalji/bugarinm',\n",
        "              'email':'Miro.Bugarin@fesb.hr',\n",
        "              'location':'C702',\n",
        "              'department':'NULL',\n",
        "              'title':'dr. sc.',\n",
        "              'position':'docent'\n",
        "          },\n",
        "          {\n",
        "              'url':'https://nastava.fesb.unist.hr/nastava/nastavnici/detalji/plavsabm',\n",
        "              'email':'Mira.Braovic.Plavsa@fesb.hr',\n",
        "              'location':'A115',\n",
        "              'department':'Odsjek općih predmeta',\n",
        "              'title':'prof.',\n",
        "              'position':'viši predavač'\n",
        "          },\n",
        "          {\n",
        "              'url':'https://nastava.fesb.unist.hr/nastava/nastavnici/detalji/marijuki',\n",
        "              'email':'Marija.Jukic.Ante@fesb.hr',\n",
        "              'location':'A225',\n",
        "              'department':'Računski centar',\n",
        "              'title':'mag. ing.',\n",
        "              'position':'naslovno zvanje asistent'\n",
        "          }\n",
        "]\n",
        "\n",
        "# TEST RUNNER\n",
        "\n",
        "for test in tests:\n",
        "\n",
        "  page = getPageFromLink(test['url'])\n",
        "\n",
        "  test.pop(\"url\")\n",
        "  result={\n",
        "          'email':getEmailFromDetailsPage(page),\n",
        "          'location':getLocationFromDetailsPage(page),\n",
        "          'department':getDepartmentFromDetailsPage(page),\n",
        "          'title':getTitleFromDetailsPage(page),\n",
        "          'position':getPositionFromDetailsPage(page)\n",
        "  }\n",
        "\n",
        "\n",
        "  if test!=result:\n",
        "    print('TEST FAILED')\n",
        "    print(\"Expected :\", test)\n",
        "    print(\"Actual   :\",result)\n",
        "  else:\n",
        "    print(\"TEST PASSED\")"
      ],
      "metadata": {
        "colab": {
          "base_uri": "https://localhost:8080/"
        },
        "id": "7F4ppx0u_Z6s",
        "outputId": "02a54163-34a9-4776-9475-8f7cab93e7b2"
      },
      "execution_count": null,
      "outputs": [
        {
          "output_type": "stream",
          "name": "stdout",
          "text": [
            "TEST PASSED\n",
            "TEST PASSED\n",
            "TEST PASSED\n",
            "TEST PASSED\n",
            "TEST PASSED\n",
            "TEST PASSED\n",
            "TEST PASSED\n"
          ]
        }
      ]
    },
    {
      "cell_type": "markdown",
      "source": [
        "## Scraping podataka\n",
        "Pomoću prethodnih funkcija:\n",
        "- getEmailFromDetailsPage\n",
        "- getLocationFromDetailsPage\n",
        "- getDepartmentFromDetailsPage\n",
        "- getTitleFromDetailsPage\n",
        "- getPositionFromDetailsPage\n",
        "\n",
        "Za svaki redak obogatiti CSV datoteku podacima:\n",
        "- email\n",
        "- lokacija ureda\n",
        "- zavod\n",
        "- titula\n",
        "- pozicija\n",
        "\n",
        "Scraping će također otkriti mrtve linkove."
      ],
      "metadata": {
        "id": "Nouj-FNYPXUA"
      }
    },
    {
      "cell_type": "code",
      "source": [
        "employees['email'] = \"NULL\"\n",
        "employees['location'] = \"NULL\"\n",
        "employees['department'] = \"NULL\"\n",
        "employees['title'] = \"NULL\"\n",
        "employees['position'] = \"NULL\"\n",
        "\n",
        "invalidLinkCounter=0\n",
        "\n",
        "for index, row in employees.iterrows():\n",
        "\n",
        "    page = getPageFromLink(row['detailsLink'])\n",
        "\n",
        "    email=getEmailFromDetailsPage(page)\n",
        "    location=getLocationFromDetailsPage(page)\n",
        "    department=getDepartmentFromDetailsPage(page)\n",
        "    title=getTitleFromDetailsPage(page)\n",
        "    position=getPositionFromDetailsPage(page)\n",
        "\n",
        "    if page is None:\n",
        "        invalidLinkCounter=invalidLinkCounter+1\n",
        "        print(\"invalid links counter: \",invalidLinkCounter)\n",
        "        print(\"link: \"+row['detailsLink'])\n",
        "        print()\n",
        "\n",
        "    employees.at[index,'email'] = email\n",
        "    employees.at[index,'location'] = location\n",
        "    employees.at[index,'department'] = department\n",
        "    employees.at[index,'title'] = title\n",
        "    employees.at[index,'position'] = position\n",
        "\n",
        "employees.to_csv('defaultSexScrape.csv')"
      ],
      "metadata": {
        "id": "X3oXf4_rPde8",
        "colab": {
          "base_uri": "https://localhost:8080/"
        },
        "outputId": "d5d7a1b9-8837-4067-cdd5-bd51536bb0a5"
      },
      "execution_count": null,
      "outputs": [
        {
          "output_type": "stream",
          "name": "stdout",
          "text": [
            "invalid links counter:  1\n",
            "link: https://nastava.fesb.unist.hr/nastava/nastavnici/detalji/idjapic\n",
            "\n",
            "invalid links counter:  2\n",
            "link: https://nastava.fesb.unist.hr/nastava/nastavnici/detalji/ploncar\n",
            "\n"
          ]
        }
      ]
    },
    {
      "cell_type": "markdown",
      "source": [
        "# Analiza\n",
        "\n"
      ],
      "metadata": {
        "id": "kIfTHPAxWjfp"
      }
    },
    {
      "cell_type": "markdown",
      "source": [
        "Analiza prikupljenih podataka.\n",
        "\n",
        "Dataset:\n",
        "-\t**type**\n",
        "-\t**sex**\n",
        "-\t**department**\n",
        "-\t**title**\n",
        "-\t**position**\n",
        "\n",
        "Ostali podaci nisu relevantni:\n",
        "- detailsLink\n",
        "- image\n",
        "-\tlastName\n",
        "-\tfirstName\n",
        "-\tdeparment_short\n",
        "-\tlocation\n",
        "-\temail"
      ],
      "metadata": {
        "id": "l4wdjWUw6KG1"
      }
    },
    {
      "cell_type": "markdown",
      "source": [
        "Učitavanje nadopunjene verzije csv datoteke."
      ],
      "metadata": {
        "id": "ZngQ7QvySDxW"
      }
    },
    {
      "cell_type": "code",
      "source": [
        "employees = pd.read_csv(\"defaultSexScrape.csv\")\n",
        "print(employees.shape)\n",
        "employees.head()"
      ],
      "metadata": {
        "id": "O68OA4frR_Xg",
        "colab": {
          "base_uri": "https://localhost:8080/",
          "height": 224
        },
        "outputId": "f00c0fac-c537-4a27-8cfc-a18ca656c0af"
      },
      "execution_count": null,
      "outputs": [
        {
          "output_type": "stream",
          "name": "stdout",
          "text": [
            "(276, 13)\n"
          ]
        },
        {
          "output_type": "execute_result",
          "data": {
            "text/plain": [
              "   Unnamed: 0                                        detailsLink  \\\n",
              "0           0  https://nastava.fesb.unist.hr/nastava/nastavni...   \n",
              "1           1  https://nastava.fesb.unist.hr/nastava/nastavni...   \n",
              "2           2  https://nastava.fesb.unist.hr/nastava/nastavni...   \n",
              "3           3  https://nastava.fesb.unist.hr/nastava/nastavni...   \n",
              "4           4  https://nastava.fesb.unist.hr/nastava/nastavni...   \n",
              "\n",
              "                                               image   lastName firstName  \\\n",
              "0                                                NaN  Aljinović    Amanda   \n",
              "1  https://korisnik.fesb.unist.hr/slika/mala/pstr...    Bagavac     Petra   \n",
              "2     https://korisnik.fesb.hr/slika/mala/dbajic.jpg      Bajić    Dražen   \n",
              "3   https://korisnik.fesb.hr/slika/mala/darioban.jpg        Ban     Dario   \n",
              "4    https://korisnik.fesb.hr/slika/mala/fbarbir.jpg     Barbir     Frano   \n",
              "\n",
              "  deparment_short location       type     sex                     email  \\\n",
              "0             ZPS     C405  djelatnik  FEMALE  Amanda.Aljinovic@fesb.hr   \n",
              "1             ZSB     C705  djelatnik  FEMALE     Petra.Bagavac@fesb.hr   \n",
              "2             ZPS      NaN  djelatnik    MALE      Drazen.Bajic@fesb.hr   \n",
              "3             ZSB     C804  djelatnik    MALE         Dario.Ban@fesb.hr   \n",
              "4             ZSB     C513  djelatnik    MALE      Frano.Barbir@fesb.hr   \n",
              "\n",
              "                            department      title  \\\n",
              "0      Zavod za proizvodno strojarstvo  mag. ing.   \n",
              "1  Zavod za strojarstvo i brodogradnju    dr. sc.   \n",
              "2      Zavod za proizvodno strojarstvo    dr. sc.   \n",
              "3  Zavod za strojarstvo i brodogradnju    dr. sc.   \n",
              "4  Zavod za strojarstvo i brodogradnju    dr. sc.   \n",
              "\n",
              "                            position  \n",
              "0                           asistent  \n",
              "1                   Poslijedoktorand  \n",
              "2  redoviti profesor - trajno zvanje  \n",
              "3                izvanredni profesor  \n",
              "4  redoviti profesor - trajno zvanje  "
            ],
            "text/html": [
              "\n",
              "  <div id=\"df-70dce1ee-e57f-4da2-bfca-e87fdb706212\">\n",
              "    <div class=\"colab-df-container\">\n",
              "      <div>\n",
              "<style scoped>\n",
              "    .dataframe tbody tr th:only-of-type {\n",
              "        vertical-align: middle;\n",
              "    }\n",
              "\n",
              "    .dataframe tbody tr th {\n",
              "        vertical-align: top;\n",
              "    }\n",
              "\n",
              "    .dataframe thead th {\n",
              "        text-align: right;\n",
              "    }\n",
              "</style>\n",
              "<table border=\"1\" class=\"dataframe\">\n",
              "  <thead>\n",
              "    <tr style=\"text-align: right;\">\n",
              "      <th></th>\n",
              "      <th>Unnamed: 0</th>\n",
              "      <th>detailsLink</th>\n",
              "      <th>image</th>\n",
              "      <th>lastName</th>\n",
              "      <th>firstName</th>\n",
              "      <th>deparment_short</th>\n",
              "      <th>location</th>\n",
              "      <th>type</th>\n",
              "      <th>sex</th>\n",
              "      <th>email</th>\n",
              "      <th>department</th>\n",
              "      <th>title</th>\n",
              "      <th>position</th>\n",
              "    </tr>\n",
              "  </thead>\n",
              "  <tbody>\n",
              "    <tr>\n",
              "      <th>0</th>\n",
              "      <td>0</td>\n",
              "      <td>https://nastava.fesb.unist.hr/nastava/nastavni...</td>\n",
              "      <td>NaN</td>\n",
              "      <td>Aljinović</td>\n",
              "      <td>Amanda</td>\n",
              "      <td>ZPS</td>\n",
              "      <td>C405</td>\n",
              "      <td>djelatnik</td>\n",
              "      <td>FEMALE</td>\n",
              "      <td>Amanda.Aljinovic@fesb.hr</td>\n",
              "      <td>Zavod za proizvodno strojarstvo</td>\n",
              "      <td>mag. ing.</td>\n",
              "      <td>asistent</td>\n",
              "    </tr>\n",
              "    <tr>\n",
              "      <th>1</th>\n",
              "      <td>1</td>\n",
              "      <td>https://nastava.fesb.unist.hr/nastava/nastavni...</td>\n",
              "      <td>https://korisnik.fesb.unist.hr/slika/mala/pstr...</td>\n",
              "      <td>Bagavac</td>\n",
              "      <td>Petra</td>\n",
              "      <td>ZSB</td>\n",
              "      <td>C705</td>\n",
              "      <td>djelatnik</td>\n",
              "      <td>FEMALE</td>\n",
              "      <td>Petra.Bagavac@fesb.hr</td>\n",
              "      <td>Zavod za strojarstvo i brodogradnju</td>\n",
              "      <td>dr. sc.</td>\n",
              "      <td>Poslijedoktorand</td>\n",
              "    </tr>\n",
              "    <tr>\n",
              "      <th>2</th>\n",
              "      <td>2</td>\n",
              "      <td>https://nastava.fesb.unist.hr/nastava/nastavni...</td>\n",
              "      <td>https://korisnik.fesb.hr/slika/mala/dbajic.jpg</td>\n",
              "      <td>Bajić</td>\n",
              "      <td>Dražen</td>\n",
              "      <td>ZPS</td>\n",
              "      <td>NaN</td>\n",
              "      <td>djelatnik</td>\n",
              "      <td>MALE</td>\n",
              "      <td>Drazen.Bajic@fesb.hr</td>\n",
              "      <td>Zavod za proizvodno strojarstvo</td>\n",
              "      <td>dr. sc.</td>\n",
              "      <td>redoviti profesor - trajno zvanje</td>\n",
              "    </tr>\n",
              "    <tr>\n",
              "      <th>3</th>\n",
              "      <td>3</td>\n",
              "      <td>https://nastava.fesb.unist.hr/nastava/nastavni...</td>\n",
              "      <td>https://korisnik.fesb.hr/slika/mala/darioban.jpg</td>\n",
              "      <td>Ban</td>\n",
              "      <td>Dario</td>\n",
              "      <td>ZSB</td>\n",
              "      <td>C804</td>\n",
              "      <td>djelatnik</td>\n",
              "      <td>MALE</td>\n",
              "      <td>Dario.Ban@fesb.hr</td>\n",
              "      <td>Zavod za strojarstvo i brodogradnju</td>\n",
              "      <td>dr. sc.</td>\n",
              "      <td>izvanredni profesor</td>\n",
              "    </tr>\n",
              "    <tr>\n",
              "      <th>4</th>\n",
              "      <td>4</td>\n",
              "      <td>https://nastava.fesb.unist.hr/nastava/nastavni...</td>\n",
              "      <td>https://korisnik.fesb.hr/slika/mala/fbarbir.jpg</td>\n",
              "      <td>Barbir</td>\n",
              "      <td>Frano</td>\n",
              "      <td>ZSB</td>\n",
              "      <td>C513</td>\n",
              "      <td>djelatnik</td>\n",
              "      <td>MALE</td>\n",
              "      <td>Frano.Barbir@fesb.hr</td>\n",
              "      <td>Zavod za strojarstvo i brodogradnju</td>\n",
              "      <td>dr. sc.</td>\n",
              "      <td>redoviti profesor - trajno zvanje</td>\n",
              "    </tr>\n",
              "  </tbody>\n",
              "</table>\n",
              "</div>\n",
              "      <button class=\"colab-df-convert\" onclick=\"convertToInteractive('df-70dce1ee-e57f-4da2-bfca-e87fdb706212')\"\n",
              "              title=\"Convert this dataframe to an interactive table.\"\n",
              "              style=\"display:none;\">\n",
              "        \n",
              "  <svg xmlns=\"http://www.w3.org/2000/svg\" height=\"24px\"viewBox=\"0 0 24 24\"\n",
              "       width=\"24px\">\n",
              "    <path d=\"M0 0h24v24H0V0z\" fill=\"none\"/>\n",
              "    <path d=\"M18.56 5.44l.94 2.06.94-2.06 2.06-.94-2.06-.94-.94-2.06-.94 2.06-2.06.94zm-11 1L8.5 8.5l.94-2.06 2.06-.94-2.06-.94L8.5 2.5l-.94 2.06-2.06.94zm10 10l.94 2.06.94-2.06 2.06-.94-2.06-.94-.94-2.06-.94 2.06-2.06.94z\"/><path d=\"M17.41 7.96l-1.37-1.37c-.4-.4-.92-.59-1.43-.59-.52 0-1.04.2-1.43.59L10.3 9.45l-7.72 7.72c-.78.78-.78 2.05 0 2.83L4 21.41c.39.39.9.59 1.41.59.51 0 1.02-.2 1.41-.59l7.78-7.78 2.81-2.81c.8-.78.8-2.07 0-2.86zM5.41 20L4 18.59l7.72-7.72 1.47 1.35L5.41 20z\"/>\n",
              "  </svg>\n",
              "      </button>\n",
              "      \n",
              "  <style>\n",
              "    .colab-df-container {\n",
              "      display:flex;\n",
              "      flex-wrap:wrap;\n",
              "      gap: 12px;\n",
              "    }\n",
              "\n",
              "    .colab-df-convert {\n",
              "      background-color: #E8F0FE;\n",
              "      border: none;\n",
              "      border-radius: 50%;\n",
              "      cursor: pointer;\n",
              "      display: none;\n",
              "      fill: #1967D2;\n",
              "      height: 32px;\n",
              "      padding: 0 0 0 0;\n",
              "      width: 32px;\n",
              "    }\n",
              "\n",
              "    .colab-df-convert:hover {\n",
              "      background-color: #E2EBFA;\n",
              "      box-shadow: 0px 1px 2px rgba(60, 64, 67, 0.3), 0px 1px 3px 1px rgba(60, 64, 67, 0.15);\n",
              "      fill: #174EA6;\n",
              "    }\n",
              "\n",
              "    [theme=dark] .colab-df-convert {\n",
              "      background-color: #3B4455;\n",
              "      fill: #D2E3FC;\n",
              "    }\n",
              "\n",
              "    [theme=dark] .colab-df-convert:hover {\n",
              "      background-color: #434B5C;\n",
              "      box-shadow: 0px 1px 3px 1px rgba(0, 0, 0, 0.15);\n",
              "      filter: drop-shadow(0px 1px 2px rgba(0, 0, 0, 0.3));\n",
              "      fill: #FFFFFF;\n",
              "    }\n",
              "  </style>\n",
              "\n",
              "      <script>\n",
              "        const buttonEl =\n",
              "          document.querySelector('#df-70dce1ee-e57f-4da2-bfca-e87fdb706212 button.colab-df-convert');\n",
              "        buttonEl.style.display =\n",
              "          google.colab.kernel.accessAllowed ? 'block' : 'none';\n",
              "\n",
              "        async function convertToInteractive(key) {\n",
              "          const element = document.querySelector('#df-70dce1ee-e57f-4da2-bfca-e87fdb706212');\n",
              "          const dataTable =\n",
              "            await google.colab.kernel.invokeFunction('convertToInteractive',\n",
              "                                                     [key], {});\n",
              "          if (!dataTable) return;\n",
              "\n",
              "          const docLinkHtml = 'Like what you see? Visit the ' +\n",
              "            '<a target=\"_blank\" href=https://colab.research.google.com/notebooks/data_table.ipynb>data table notebook</a>'\n",
              "            + ' to learn more about interactive tables.';\n",
              "          element.innerHTML = '';\n",
              "          dataTable['output_type'] = 'display_data';\n",
              "          await google.colab.output.renderOutput(dataTable, element);\n",
              "          const docLink = document.createElement('div');\n",
              "          docLink.innerHTML = docLinkHtml;\n",
              "          element.appendChild(docLink);\n",
              "        }\n",
              "      </script>\n",
              "    </div>\n",
              "  </div>\n",
              "  "
            ]
          },
          "metadata": {},
          "execution_count": 177
        }
      ]
    },
    {
      "cell_type": "markdown",
      "source": [
        "## Osnovna analiza\n",
        "Koristi samo prikupljene podatke."
      ],
      "metadata": {
        "id": "UAwGvR0DvQCB"
      }
    },
    {
      "cell_type": "markdown",
      "source": [
        "Koliko se jedinstvenih prezimena ovdje nalazi (iako su neka prezimena kombinacija postojećih prezimena)?"
      ],
      "metadata": {
        "id": "v6OabsIf_A3A"
      }
    },
    {
      "cell_type": "code",
      "source": [
        "uniqueEmployees = len(employees['lastName'].unique())\n",
        "all = len(employees)\n",
        "print(\"Unique employees\",uniqueEmployees,\"/\",all)"
      ],
      "metadata": {
        "colab": {
          "base_uri": "https://localhost:8080/"
        },
        "id": "U7SOYDR7_B1g",
        "outputId": "f5682b9a-385d-4d97-a3c5-9687053d9a8c"
      },
      "execution_count": null,
      "outputs": [
        {
          "output_type": "stream",
          "name": "stdout",
          "text": [
            "Unique employees 253 / 276\n"
          ]
        }
      ]
    },
    {
      "cell_type": "markdown",
      "source": [
        "Koliko je djelatnika s istim prezimenom se zaposlilo samo jednom naspram više puta?"
      ],
      "metadata": {
        "id": "j9TjXENO_GrU"
      }
    },
    {
      "cell_type": "code",
      "source": [
        "vc = employees[\"lastName\"].value_counts()\n",
        "once = len(vc[vc == 1])\n",
        "more_than_once = len(vc[vc > 1])\n",
        "\n",
        "print(vc)\n",
        "print(\"Single occurrence\",once)\n",
        "print(\"Multiple occurrences\",more_than_once)"
      ],
      "metadata": {
        "colab": {
          "base_uri": "https://localhost:8080/"
        },
        "id": "N0iP10HB_LVs",
        "outputId": "4ded6eb8-ac66-4c15-b1de-750821576ad0"
      },
      "execution_count": null,
      "outputs": [
        {
          "output_type": "stream",
          "name": "stdout",
          "text": [
            "Marasović    4\n",
            "Bašić        4\n",
            "Blažević     3\n",
            "Grgić        3\n",
            "Pivac        2\n",
            "            ..\n",
            "Nižetić      1\n",
            "Papić        1\n",
            "Pehnec       1\n",
            "Pekić        1\n",
            "Žilić        1\n",
            "Name: lastName, Length: 253, dtype: int64\n",
            "Single occurrence 236\n",
            "Multiple occurrences 17\n"
          ]
        }
      ]
    },
    {
      "cell_type": "markdown",
      "source": [
        "Koliko je jedinstvenih titula?\n",
        "Koliko je svake od titula?"
      ],
      "metadata": {
        "id": "3K41a7tsRqpQ"
      }
    },
    {
      "cell_type": "code",
      "source": [
        "vc = employees[\"title\"].value_counts()\n",
        "once = len(vc[vc == 1])\n",
        "more_than_once = len(vc[vc > 1])\n",
        "\n",
        "print(vc)\n",
        "print(\"\\nOnly once\",once)\n",
        "print(\"More than once\",more_than_once)"
      ],
      "metadata": {
        "colab": {
          "base_uri": "https://localhost:8080/"
        },
        "outputId": "1bd7a7a0-6ee5-4870-feee-5aac88a924af",
        "id": "X7QvTTOASPo2"
      },
      "execution_count": null,
      "outputs": [
        {
          "output_type": "stream",
          "name": "stdout",
          "text": [
            "dr. sc.       150\n",
            "mag. ing.      68\n",
            "dipl. ing.     15\n",
            "mr. sc.         4\n",
            "prof.           4\n",
            "mag. math.      4\n",
            "mag. phys.      4\n",
            "Name: title, dtype: int64\n",
            "\n",
            "Only once 0\n",
            "More than once 7\n"
          ]
        }
      ]
    },
    {
      "cell_type": "markdown",
      "source": [
        "Koliki je omjer zaposlenika, djelatnika i vanjskih suradnika, prema spolu?"
      ],
      "metadata": {
        "id": "fIUPL-yxBecG"
      }
    },
    {
      "cell_type": "code",
      "source": [
        "allSexRatio = employees[\"sex\"].value_counts(normalize=True) * 100\n",
        "externalsSexRatio= employees[employees[\"type\"] == 'djelatnik'][\"sex\"].value_counts(normalize=True) * 100\n",
        "internalsSexRatio= employees[employees[\"type\"] == 'vanjski_suradnik'][\"sex\"].value_counts(normalize=True) * 100\n",
        "\n",
        "# svi\n",
        "dataAll = [allSexRatio['MALE'], allSexRatio['FEMALE']]\n",
        "# vanjski suradnici\n",
        "dataExternals = [externalsSexRatio['MALE'], externalsSexRatio['FEMALE']]\n",
        "# zaposlenici\n",
        "dataInternals = [internalsSexRatio['MALE'], internalsSexRatio['FEMALE']]\n",
        "\n",
        "keys = ['Male', 'Female']\n",
        "  \n",
        "# Make figure and axes\n",
        "fig, axs = plt.subplots(ncols=3,figsize=(15, 5))\n",
        "\n",
        "# A standard pie plot\n",
        "axs[0].pie(allSexRatio, labels=keys, colors=palette_color, autopct='%.2f%%')\n",
        "axs[1].pie(dataExternals, labels=keys, colors=palette_color, autopct='%.2f%%')\n",
        "axs[2].pie(dataInternals, labels=keys, colors=palette_color, autopct='%.2f%%')\n",
        "\n",
        "plt.show()"
      ],
      "metadata": {
        "id": "LChmHy4LBlaC",
        "colab": {
          "base_uri": "https://localhost:8080/",
          "height": 277
        },
        "outputId": "9a8b1811-59b7-4eb0-90a0-3aba8f7f1ca6"
      },
      "execution_count": null,
      "outputs": [
        {
          "output_type": "display_data",
          "data": {
            "text/plain": [
              "<Figure size 1080x360 with 3 Axes>"
            ],
            "image/png": "[encoded data removed]"
          },
          "metadata": {}
        }
      ]
    },
    {
      "cell_type": "markdown",
      "source": [
        "Raspodjeljenost titula."
      ],
      "metadata": {
        "id": "q910mmpkr9N-"
      }
    },
    {
      "cell_type": "code",
      "source": [
        "df_all=employees\n",
        "df_djelatnik=employees[employees[\"type\"]==\"djelatnik\"]\n",
        "df_vanjski_suradnik=employees[employees[\"type\"]==\"vanjski_suradnik\"]\n",
        "\n",
        "\n",
        "df_0=df_all.groupby([\"title\"]).size().reset_index(name=\"Zaposlenici\").sort_values(by=['title'])\n",
        "df_all=df_all.groupby([\"sex\", \"title\"]).size().reset_index(name=\"Zaposlenici\").sort_values(by=['title'])\n",
        "df_djelatnik=df_djelatnik.groupby([\"sex\", \"title\"]).size().reset_index(name=\"Djelatnici\").sort_values(by=['title'])\n",
        "df_vanjski_suradnik=df_vanjski_suradnik.groupby([\"sex\", \"title\"]).size().reset_index(name=\"Vanjski suradnici\").sort_values(by=['title'])\n",
        "\n",
        "fig, axs = plt.subplots(ncols=2, nrows=2, figsize=(20, 15))\n",
        "axs[0][0].set_xticklabels(axs[0][0].get_xticklabels(), rotation=40, ha=\"right\")\n",
        "axs[0][1].set_xticklabels(axs[0][1].get_xticklabels(), rotation=40, ha=\"right\")\n",
        "axs[1][0].set_xticklabels(axs[1][0].get_xticklabels(), rotation=40, ha=\"right\")\n",
        "axs[1][1].set_xticklabels(axs[1][1].get_xticklabels(), rotation=40, ha=\"right\")\n",
        "\n",
        "# drawing the plot\n",
        "sns.barplot(data=df_0, x=\"title\", y=\"Zaposlenici\", ax=axs[0][0],palette=palette_color)\n",
        "sns.barplot(data=df_all, x=\"title\", y=\"Zaposlenici\", hue=\"sex\", ax=axs[0][1],palette=palette_color)\n",
        "sns.barplot(data=df_djelatnik, x=\"title\", y=\"Djelatnici\", hue=\"sex\", ax=axs[1][0],palette=palette_color)\n",
        "sns.barplot(data=df_vanjski_suradnik, x=\"title\", y=\"Vanjski suradnici\", hue=\"sex\", ax=axs[1][1],palette=palette_color)\n",
        "plt.show()\n"
      ],
      "metadata": {
        "colab": {
          "base_uri": "https://localhost:8080/",
          "height": 921
        },
        "id": "Y_6R9ttisA4y",
        "outputId": "c33a1f7a-b8ca-4a03-8032-55ef30eff8d5"
      },
      "execution_count": null,
      "outputs": [
        {
          "output_type": "display_data",
          "data": {
            "text/plain": [
              "<Figure size 1440x1080 with 4 Axes>"
            ],
            "image/png": "[encoded data removed]"
          },
          "metadata": {}
        }
      ]
    },
    {
      "cell_type": "markdown",
      "source": [
        "Raspodjeljenost djelatnika po zavodima?"
      ],
      "metadata": {
        "id": "jo3ZfqU8TZYK"
      }
    },
    {
      "cell_type": "code",
      "source": [
        "df=employees.groupby([\"department\"]).size().reset_index(name=\"Zaposlenici\")\n",
        "df_by_sex=employees.groupby([\"sex\", \"department\"]).size().reset_index(name=\"Zaposlenici\")\n",
        "\n",
        "fig, axs = plt.subplots(ncols=2,figsize=(20, 5))\n",
        "axs[0].set_xticklabels(axs[0].get_xticklabels(), rotation=40, ha=\"right\")\n",
        "axs[1].set_xticklabels(axs[1].get_xticklabels(), rotation=40, ha=\"right\")\n",
        "\n",
        "sns.barplot(data=df, x=\"department\", y=\"Zaposlenici\", ax=axs[0],palette=colorPalete)\n",
        "sns.barplot(data=df_by_sex, x=\"department\", y=\"Zaposlenici\", hue=\"sex\", ax=axs[1],palette=colorPalete)\n",
        "\n",
        "plt.show()"
      ],
      "metadata": {
        "colab": {
          "base_uri": "https://localhost:8080/",
          "height": 464
        },
        "id": "YuxhxM-5Tli_",
        "outputId": "6b2ac005-b4a2-428b-c1a3-e5c70530322e"
      },
      "execution_count": null,
      "outputs": [
        {
          "output_type": "display_data",
          "data": {
            "text/plain": [
              "<Figure size 1440x360 with 2 Axes>"
            ],
            "image/png": "[encoded data removed]"
          },
          "metadata": {}
        }
      ]
    },
    {
      "cell_type": "markdown",
      "source": [
        "Raspodjeljenost djelatnika po pozicijama?"
      ],
      "metadata": {
        "id": "yVlWHJV6fhXw"
      }
    },
    {
      "cell_type": "code",
      "source": [
        "df=employees.groupby([\"position\"]).size().reset_index(name=\"Zaposlenici\")\n",
        "df_by_sex=employees.groupby([\"sex\", \"position\"]).size().reset_index(name=\"Zaposlenici\")\n",
        "\n",
        "fig, axs = plt.subplots(ncols=2,figsize=(20, 5))\n",
        "axs[0].set_xticklabels(axs[0].get_xticklabels(), rotation=40, ha=\"right\")\n",
        "axs[1].set_xticklabels(axs[1].get_xticklabels(), rotation=40, ha=\"right\")\n",
        "\n",
        "sns.barplot(data=df, x=\"position\", y=\"Zaposlenici\", ax=axs[0],palette=colorPalete)\n",
        "sns.barplot(data=df_by_sex, x=\"position\", y=\"Zaposlenici\", hue=\"sex\", ax=axs[1],palette=colorPalete)\n",
        "\n",
        "plt.show()\n",
        "\n"
      ],
      "metadata": {
        "colab": {
          "base_uri": "https://localhost:8080/",
          "height": 552
        },
        "outputId": "da1a5156-8365-4368-c092-8879113c268b",
        "id": "X-qhivUNfhX9"
      },
      "execution_count": null,
      "outputs": [
        {
          "output_type": "display_data",
          "data": {
            "text/plain": [
              "<Figure size 1440x360 with 2 Axes>"
            ],
            "image/png": "[encoded data removed]"
          },
          "metadata": {}
        }
      ]
    },
    {
      "cell_type": "markdown",
      "source": [
        "Raspodjeljenost titula s obzirom na zavode."
      ],
      "metadata": {
        "id": "_WESaRQYUDqN"
      }
    },
    {
      "cell_type": "code",
      "source": [
        "df=employees.groupby([\"title\", \"department\"]).size().reset_index(name=\"Zaposlenici\")\n",
        "sns.relplot(data=df, x=\"title\", y=\"department\", size=\"Zaposlenici\", height=8,aspect=1.5,sizes=(10, 2000))"
      ],
      "metadata": {
        "colab": {
          "base_uri": "https://localhost:8080/",
          "height": 598
        },
        "id": "UtuD7_E0J0cf",
        "outputId": "f2ec1750-fbdc-4bfe-ddea-1a57c5e71097"
      },
      "execution_count": null,
      "outputs": [
        {
          "output_type": "execute_result",
          "data": {
            "text/plain": [
              "<seaborn.axisgrid.FacetGrid at 0x7f3c13221c40>"
            ]
          },
          "metadata": {},
          "execution_count": 156
        },
        {
          "output_type": "display_data",
          "data": {
            "text/plain": [
              "<Figure size 941.3x576 with 1 Axes>"
            ],
            "image/png": "[encoded data removed]"
          },
          "metadata": {}
        }
      ]
    },
    {
      "cell_type": "markdown",
      "source": [
        "Raspodjeljenost titula s obzirom na poziciju."
      ],
      "metadata": {
        "id": "ezk6UvkA2c5Q"
      }
    },
    {
      "cell_type": "code",
      "source": [
        "df=employees.groupby([\"title\", \"position\"]).size().reset_index(name=\"Zaposlenici\")\n",
        "sns.relplot(data=df, x=\"title\", y=\"position\", size=\"Zaposlenici\", height=10,aspect=1.2,sizes=(10, 2000))"
      ],
      "metadata": {
        "colab": {
          "base_uri": "https://localhost:8080/",
          "height": 742
        },
        "id": "hu3SnrdI2cJ4",
        "outputId": "833c211c-b8f7-4d1a-c400-f2385f6cebe4"
      },
      "execution_count": null,
      "outputs": [
        {
          "output_type": "execute_result",
          "data": {
            "text/plain": [
              "<seaborn.axisgrid.FacetGrid at 0x7f3c0d8629a0>"
            ]
          },
          "metadata": {},
          "execution_count": 165
        },
        {
          "output_type": "display_data",
          "data": {
            "text/plain": [
              "<Figure size 941.3x720 with 1 Axes>"
            ],
            "image/png": "[encoded data removed]"
          },
          "metadata": {}
        }
      ]
    },
    {
      "cell_type": "markdown",
      "source": [
        "## Daljnje analize\n",
        "Koristeći postojeće podatke stvaranje novih podataka te sveukupna analiza."
      ],
      "metadata": {
        "id": "vXRfT0tOx-VT"
      }
    },
    {
      "cell_type": "markdown",
      "source": [
        "### Pronađimo zaposlenike koji su mijenjali prezime\n",
        "Pomoću usporedbe prezimena s prezimenom iz e-mail adrese."
      ],
      "metadata": {
        "id": "iiqRWWq9M4Ka"
      }
    },
    {
      "cell_type": "markdown",
      "source": [
        "Definiranje fukncije za izvlačenje prezimena iz e-mail adrese."
      ],
      "metadata": {
        "id": "FubfbXTExKGp"
      }
    },
    {
      "cell_type": "code",
      "source": [
        "def getLastNameFromEmail(email):\n",
        "    prezime = re.search(r\"^(\\D*)(\\.[0-9]+){0,1}(@fesb\\.hr)\", email) # xxxxxxxx.00@fesb.hr\n",
        "    if prezime and '-' not in prezime.group(1):\n",
        "      parts=prezime.group(1).split('.')\n",
        "      if len(parts)==2: # xxxx.xxxx\n",
        "        return parts[1] # xxxx\n",
        "      else:\n",
        "        return 'NULL'\n",
        "    else:\n",
        "      return 'NULL'\n",
        "\n",
        "# TEST\n",
        "prezime=getLastNameFromEmail(\"Josip.Basic.Brod@fesb.hr\")\n",
        "print(prezime)"
      ],
      "metadata": {
        "colab": {
          "base_uri": "https://localhost:8080/"
        },
        "id": "CAJ7PfFUM5nT",
        "outputId": "8b857091-7db7-448a-838e-85b5e55d8ee3"
      },
      "execution_count": null,
      "outputs": [
        {
          "output_type": "stream",
          "name": "stdout",
          "text": [
            "NULL\n"
          ]
        }
      ]
    },
    {
      "cell_type": "markdown",
      "source": [
        "Definiranje fukncije za uspoređivanje prezimena iz emaila s postojećim prezimenom, UTF-8 i ASCII iz emaila."
      ],
      "metadata": {
        "id": "PHAak6JC_jM2"
      }
    },
    {
      "cell_type": "code",
      "source": [
        "def namesEqual(utf_s,ascii_s):\n",
        "    \n",
        "    dictionary = {'Č':'C', 'Ć':'C', 'Đ':'DZ', 'Š':'S', 'Ž':'Z', 'Ö':'O', 'Đ':'DJ' } \n",
        "\n",
        "    utf_s=utf_s.upper()\n",
        "    ascii_s=ascii_s.upper()\n",
        "    \n",
        "    # UTF-8 to ASCII coversion\n",
        "    for key in dictionary.keys():\n",
        "        utf_s = utf_s.replace(key, dictionary[key])\n",
        "    \n",
        "    return ascii_s==utf_s\n",
        "\n",
        "\n",
        "# TEST\n",
        "print(\"Prezime nije mijenjano (nije se udala)\" if namesEqual(\"Bašić\",prezime) else \"Prezime je mijenjano (udala se)\") # kako neinitutitivno izvesti ternarni operator"
      ],
      "metadata": {
        "colab": {
          "base_uri": "https://localhost:8080/"
        },
        "id": "laI6dS4k_nQc",
        "outputId": "cc806fa7-6407-41ce-ec58-8b777c0ab459"
      },
      "execution_count": null,
      "outputs": [
        {
          "output_type": "stream",
          "name": "stdout",
          "text": [
            "Prezime je mijenjano (udala se)\n"
          ]
        }
      ]
    },
    {
      "cell_type": "markdown",
      "source": [
        "Iteriranje kroz sve zaposlenike i dodavanje novog stupca, `changedLastName` koji može biti `true`, `false`, `NULL` (ukoliko se nije moglo odrediti, dupla prezimena...)."
      ],
      "metadata": {
        "id": "_rjkZe2XxZtX"
      }
    },
    {
      "cell_type": "code",
      "source": [
        "employees['changedLastName'] = \"NULL\"\n",
        "\n",
        "invalidLinkCounter=0\n",
        "changed=0\n",
        "notChanged=0\n",
        "\n",
        "for index, row in employees.iterrows():\n",
        "    email=row['email']\n",
        "    if(email == email): # some weird python crap, NaN\n",
        "      emailLastName = getLastNameFromEmail(email)\n",
        "      if emailLastName != 'NULL':\n",
        "        if namesEqual(row['lastName'],emailLastName):\n",
        "          employees.at[index,'changedLastName'] = False\n",
        "          notChanged+=1\n",
        "        else:\n",
        "          employees.at[index,'changedLastName'] = True\n",
        "          changed+=1\n",
        "      else:\n",
        "        invalidLinkCounter+=1\n",
        "  \n",
        "sum=invalidLinkCounter+changed+notChanged\n",
        "print(\"Number of special cases: \",invalidLinkCounter,\"/\",sum)\n",
        "print(\"Changed Last Name: \",changed,\"/\",sum)\n",
        "print(\"Not changed Last Name: \",notChanged,\"/\",sum)"
      ],
      "metadata": {
        "colab": {
          "base_uri": "https://localhost:8080/"
        },
        "id": "x3ru-afbj9gi",
        "outputId": "b59bf9bf-59f2-4951-fe80-692ca43322f5"
      },
      "execution_count": null,
      "outputs": [
        {
          "output_type": "stream",
          "name": "stdout",
          "text": [
            "Number of special cases:  42 / 274\n",
            "Changed Last Name:  15 / 274\n",
            "Not changed Last Name:  217 / 274\n"
          ]
        }
      ]
    },
    {
      "cell_type": "markdown",
      "source": [
        "Koliko je muških/ženskih mijenjalo prezime?"
      ],
      "metadata": {
        "id": "Da040oZXBzYA"
      }
    },
    {
      "cell_type": "code",
      "source": [
        "df = employees[employees['changedLastName']==True]\n",
        "\n",
        "print(\"Male: \",len(df[df[\"sex\"]=='MALE']),\"/\",len(df))\n",
        "print(\"Female: \",len(df[df[\"sex\"]=='FEMALE']),\"/\",len(df))\n",
        "# print(df[['lastName', 'email']]) # GDPR !!!\n",
        "\n",
        "\n",
        "fig, axs = plt.subplots(ncols=3,figsize=(15, 5))\n",
        "axs[0].set_xticklabels(axs[0].get_xticklabels(), rotation=40, ha=\"right\")\n",
        "axs[1].set_xticklabels(axs[1].get_xticklabels(), rotation=40, ha=\"right\")\n",
        "axs[2].set_xticklabels(axs[2].get_xticklabels(), rotation=40, ha=\"right\")\n",
        "\n",
        "\n",
        "df1=df.groupby([\"sex\", \"title\"]).size().reset_index(name=\"Zaposlenici\")\n",
        "sns.barplot(data=df1, x=\"title\", y=\"Zaposlenici\", hue=\"sex\", ax=axs[0],palette=colorPalete)\n",
        "\n",
        "\n",
        "\n",
        "df2=df.groupby([\"sex\", \"position\"]).size().reset_index(name=\"Zaposlenici\")\n",
        "sns.barplot(data=df2, x=\"position\", y=\"Zaposlenici\", hue=\"sex\", ax=axs[1],palette=colorPalete)\n",
        "\n",
        "\n",
        "df3=df.groupby([\"sex\", \"department\"]).size().reset_index(name=\"Zaposlenici\")\n",
        "sns.barplot(data=df3, x=\"department\", y=\"Zaposlenici\", hue=\"sex\", ax=axs[2],palette=colorPalete)\n",
        "\n",
        "plt.show()"
      ],
      "metadata": {
        "colab": {
          "base_uri": "https://localhost:8080/",
          "height": 587
        },
        "id": "C7SooVbDx5EH",
        "outputId": "90e9e249-cd90-4894-cd22-3fe505e59bb9"
      },
      "execution_count": null,
      "outputs": [
        {
          "output_type": "stream",
          "name": "stdout",
          "text": [
            "Male:  0 / 15\n",
            "Female:  15 / 15\n"
          ]
        },
        {
          "output_type": "display_data",
          "data": {
            "text/plain": [
              "<Figure size 1080x360 with 3 Axes>"
            ],
            "image/png": "[encoded data removed]"
          },
          "metadata": {}
        }
      ]
    },
    {
      "cell_type": "markdown",
      "source": [
        "# Google Scholar merge\n",
        "- spajanje trenutnih podataka s podacima scrapeanih s Google Scholar-a"
      ],
      "metadata": {
        "id": "tma2RHmM5N32"
      }
    },
    {
      "cell_type": "markdown",
      "source": [
        "Dodavanje novog stupca `fullName`."
      ],
      "metadata": {
        "id": "sFN9ILyp7tRX"
      }
    },
    {
      "cell_type": "code",
      "source": [
        "employees['Title'] = employees[['firstName', 'lastName']].agg(' '.join, axis=1)\n",
        "print(employees.shape)\n",
        "employees.head()"
      ],
      "metadata": {
        "colab": {
          "base_uri": "https://localhost:8080/",
          "height": 372
        },
        "id": "bS4bTL4Y5LoN",
        "outputId": "f4909a33-0df9-4a4c-f13e-4809ea67d0ee"
      },
      "execution_count": null,
      "outputs": [
        {
          "output_type": "stream",
          "name": "stdout",
          "text": [
            "(276, 17)\n"
          ]
        },
        {
          "output_type": "execute_result",
          "data": {
            "text/plain": [
              "   Unnamed: 0  Unnamed: 0.1  \\\n",
              "0           0             0   \n",
              "1           1             1   \n",
              "2           2             2   \n",
              "3           3             3   \n",
              "4           4             4   \n",
              "\n",
              "                                         detailsLink  \\\n",
              "0  https://nastava.fesb.unist.hr/nastava/nastavni...   \n",
              "1  https://nastava.fesb.unist.hr/nastava/nastavni...   \n",
              "2  https://nastava.fesb.unist.hr/nastava/nastavni...   \n",
              "3  https://nastava.fesb.unist.hr/nastava/nastavni...   \n",
              "4  https://nastava.fesb.unist.hr/nastava/nastavni...   \n",
              "\n",
              "                                               image   lastName firstName  \\\n",
              "0                                                NaN  Aljinović    Amanda   \n",
              "1  https://korisnik.fesb.unist.hr/slika/mala/pstr...    Bagavac     Petra   \n",
              "2     https://korisnik.fesb.hr/slika/mala/dbajic.jpg      Bajić    Dražen   \n",
              "3   https://korisnik.fesb.hr/slika/mala/darioban.jpg        Ban     Dario   \n",
              "4    https://korisnik.fesb.hr/slika/mala/fbarbir.jpg     Barbir     Frano   \n",
              "\n",
              "  deparment location    details     sex                     email  \\\n",
              "0       ZPS     C405  djelatnik  FEMALE  Amanda.Aljinovic@fesb.hr   \n",
              "1       ZSB     C705  djelatnik  FEMALE     Petra.Bagavac@fesb.hr   \n",
              "2       ZPS      NaN  djelatnik    MALE      Drazen.Bajic@fesb.hr   \n",
              "3       ZSB     C804  djelatnik    MALE         Dario.Ban@fesb.hr   \n",
              "4       ZSB     C513  djelatnik    MALE      Frano.Barbir@fesb.hr   \n",
              "\n",
              "                               katedra      title  \\\n",
              "0      Zavod za proizvodno strojarstvo  mag. ing.   \n",
              "1  Zavod za strojarstvo i brodogradnju    dr. sc.   \n",
              "2      Zavod za proizvodno strojarstvo    dr. sc.   \n",
              "3  Zavod za strojarstvo i brodogradnju    dr. sc.   \n",
              "4  Zavod za strojarstvo i brodogradnju    dr. sc.   \n",
              "\n",
              "                            position changedLastName          fullName  \\\n",
              "0                           asistent           False  Amanda Aljinović   \n",
              "1                   Poslijedoktorand           False     Petra Bagavac   \n",
              "2  redoviti profesor - trajno zvanje           False      Dražen Bajić   \n",
              "3                izvanredni profesor           False         Dario Ban   \n",
              "4  redoviti profesor - trajno zvanje           False      Frano Barbir   \n",
              "\n",
              "              Title  \n",
              "0  Amanda Aljinović  \n",
              "1     Petra Bagavac  \n",
              "2      Dražen Bajić  \n",
              "3         Dario Ban  \n",
              "4      Frano Barbir  "
            ],
            "text/html": [
              "\n",
              "  <div id=\"df-621c8f84-41bd-4920-a5bc-3b2f4b16e395\">\n",
              "    <div class=\"colab-df-container\">\n",
              "      <div>\n",
              "<style scoped>\n",
              "    .dataframe tbody tr th:only-of-type {\n",
              "        vertical-align: middle;\n",
              "    }\n",
              "\n",
              "    .dataframe tbody tr th {\n",
              "        vertical-align: top;\n",
              "    }\n",
              "\n",
              "    .dataframe thead th {\n",
              "        text-align: right;\n",
              "    }\n",
              "</style>\n",
              "<table border=\"1\" class=\"dataframe\">\n",
              "  <thead>\n",
              "    <tr style=\"text-align: right;\">\n",
              "      <th></th>\n",
              "      <th>Unnamed: 0</th>\n",
              "      <th>Unnamed: 0.1</th>\n",
              "      <th>detailsLink</th>\n",
              "      <th>image</th>\n",
              "      <th>lastName</th>\n",
              "      <th>firstName</th>\n",
              "      <th>deparment</th>\n",
              "      <th>location</th>\n",
              "      <th>details</th>\n",
              "      <th>sex</th>\n",
              "      <th>email</th>\n",
              "      <th>katedra</th>\n",
              "      <th>title</th>\n",
              "      <th>position</th>\n",
              "      <th>changedLastName</th>\n",
              "      <th>fullName</th>\n",
              "      <th>Title</th>\n",
              "    </tr>\n",
              "  </thead>\n",
              "  <tbody>\n",
              "    <tr>\n",
              "      <th>0</th>\n",
              "      <td>0</td>\n",
              "      <td>0</td>\n",
              "      <td>https://nastava.fesb.unist.hr/nastava/nastavni...</td>\n",
              "      <td>NaN</td>\n",
              "      <td>Aljinović</td>\n",
              "      <td>Amanda</td>\n",
              "      <td>ZPS</td>\n",
              "      <td>C405</td>\n",
              "      <td>djelatnik</td>\n",
              "      <td>FEMALE</td>\n",
              "      <td>Amanda.Aljinovic@fesb.hr</td>\n",
              "      <td>Zavod za proizvodno strojarstvo</td>\n",
              "      <td>mag. ing.</td>\n",
              "      <td>asistent</td>\n",
              "      <td>False</td>\n",
              "      <td>Amanda Aljinović</td>\n",
              "      <td>Amanda Aljinović</td>\n",
              "    </tr>\n",
              "    <tr>\n",
              "      <th>1</th>\n",
              "      <td>1</td>\n",
              "      <td>1</td>\n",
              "      <td>https://nastava.fesb.unist.hr/nastava/nastavni...</td>\n",
              "      <td>https://korisnik.fesb.unist.hr/slika/mala/pstr...</td>\n",
              "      <td>Bagavac</td>\n",
              "      <td>Petra</td>\n",
              "      <td>ZSB</td>\n",
              "      <td>C705</td>\n",
              "      <td>djelatnik</td>\n",
              "      <td>FEMALE</td>\n",
              "      <td>Petra.Bagavac@fesb.hr</td>\n",
              "      <td>Zavod za strojarstvo i brodogradnju</td>\n",
              "      <td>dr. sc.</td>\n",
              "      <td>Poslijedoktorand</td>\n",
              "      <td>False</td>\n",
              "      <td>Petra Bagavac</td>\n",
              "      <td>Petra Bagavac</td>\n",
              "    </tr>\n",
              "    <tr>\n",
              "      <th>2</th>\n",
              "      <td>2</td>\n",
              "      <td>2</td>\n",
              "      <td>https://nastava.fesb.unist.hr/nastava/nastavni...</td>\n",
              "      <td>https://korisnik.fesb.hr/slika/mala/dbajic.jpg</td>\n",
              "      <td>Bajić</td>\n",
              "      <td>Dražen</td>\n",
              "      <td>ZPS</td>\n",
              "      <td>NaN</td>\n",
              "      <td>djelatnik</td>\n",
              "      <td>MALE</td>\n",
              "      <td>Drazen.Bajic@fesb.hr</td>\n",
              "      <td>Zavod za proizvodno strojarstvo</td>\n",
              "      <td>dr. sc.</td>\n",
              "      <td>redoviti profesor - trajno zvanje</td>\n",
              "      <td>False</td>\n",
              "      <td>Dražen Bajić</td>\n",
              "      <td>Dražen Bajić</td>\n",
              "    </tr>\n",
              "    <tr>\n",
              "      <th>3</th>\n",
              "      <td>3</td>\n",
              "      <td>3</td>\n",
              "      <td>https://nastava.fesb.unist.hr/nastava/nastavni...</td>\n",
              "      <td>https://korisnik.fesb.hr/slika/mala/darioban.jpg</td>\n",
              "      <td>Ban</td>\n",
              "      <td>Dario</td>\n",
              "      <td>ZSB</td>\n",
              "      <td>C804</td>\n",
              "      <td>djelatnik</td>\n",
              "      <td>MALE</td>\n",
              "      <td>Dario.Ban@fesb.hr</td>\n",
              "      <td>Zavod za strojarstvo i brodogradnju</td>\n",
              "      <td>dr. sc.</td>\n",
              "      <td>izvanredni profesor</td>\n",
              "      <td>False</td>\n",
              "      <td>Dario Ban</td>\n",
              "      <td>Dario Ban</td>\n",
              "    </tr>\n",
              "    <tr>\n",
              "      <th>4</th>\n",
              "      <td>4</td>\n",
              "      <td>4</td>\n",
              "      <td>https://nastava.fesb.unist.hr/nastava/nastavni...</td>\n",
              "      <td>https://korisnik.fesb.hr/slika/mala/fbarbir.jpg</td>\n",
              "      <td>Barbir</td>\n",
              "      <td>Frano</td>\n",
              "      <td>ZSB</td>\n",
              "      <td>C513</td>\n",
              "      <td>djelatnik</td>\n",
              "      <td>MALE</td>\n",
              "      <td>Frano.Barbir@fesb.hr</td>\n",
              "      <td>Zavod za strojarstvo i brodogradnju</td>\n",
              "      <td>dr. sc.</td>\n",
              "      <td>redoviti profesor - trajno zvanje</td>\n",
              "      <td>False</td>\n",
              "      <td>Frano Barbir</td>\n",
              "      <td>Frano Barbir</td>\n",
              "    </tr>\n",
              "  </tbody>\n",
              "</table>\n",
              "</div>\n",
              "      <button class=\"colab-df-convert\" onclick=\"convertToInteractive('df-621c8f84-41bd-4920-a5bc-3b2f4b16e395')\"\n",
              "              title=\"Convert this dataframe to an interactive table.\"\n",
              "              style=\"display:none;\">\n",
              "        \n",
              "  <svg xmlns=\"http://www.w3.org/2000/svg\" height=\"24px\"viewBox=\"0 0 24 24\"\n",
              "       width=\"24px\">\n",
              "    <path d=\"M0 0h24v24H0V0z\" fill=\"none\"/>\n",
              "    <path d=\"M18.56 5.44l.94 2.06.94-2.06 2.06-.94-2.06-.94-.94-2.06-.94 2.06-2.06.94zm-11 1L8.5 8.5l.94-2.06 2.06-.94-2.06-.94L8.5 2.5l-.94 2.06-2.06.94zm10 10l.94 2.06.94-2.06 2.06-.94-2.06-.94-.94-2.06-.94 2.06-2.06.94z\"/><path d=\"M17.41 7.96l-1.37-1.37c-.4-.4-.92-.59-1.43-.59-.52 0-1.04.2-1.43.59L10.3 9.45l-7.72 7.72c-.78.78-.78 2.05 0 2.83L4 21.41c.39.39.9.59 1.41.59.51 0 1.02-.2 1.41-.59l7.78-7.78 2.81-2.81c.8-.78.8-2.07 0-2.86zM5.41 20L4 18.59l7.72-7.72 1.47 1.35L5.41 20z\"/>\n",
              "  </svg>\n",
              "      </button>\n",
              "      \n",
              "  <style>\n",
              "    .colab-df-container {\n",
              "      display:flex;\n",
              "      flex-wrap:wrap;\n",
              "      gap: 12px;\n",
              "    }\n",
              "\n",
              "    .colab-df-convert {\n",
              "      background-color: #E8F0FE;\n",
              "      border: none;\n",
              "      border-radius: 50%;\n",
              "      cursor: pointer;\n",
              "      display: none;\n",
              "      fill: #1967D2;\n",
              "      height: 32px;\n",
              "      padding: 0 0 0 0;\n",
              "      width: 32px;\n",
              "    }\n",
              "\n",
              "    .colab-df-convert:hover {\n",
              "      background-color: #E2EBFA;\n",
              "      box-shadow: 0px 1px 2px rgba(60, 64, 67, 0.3), 0px 1px 3px 1px rgba(60, 64, 67, 0.15);\n",
              "      fill: #174EA6;\n",
              "    }\n",
              "\n",
              "    [theme=dark] .colab-df-convert {\n",
              "      background-color: #3B4455;\n",
              "      fill: #D2E3FC;\n",
              "    }\n",
              "\n",
              "    [theme=dark] .colab-df-convert:hover {\n",
              "      background-color: #434B5C;\n",
              "      box-shadow: 0px 1px 3px 1px rgba(0, 0, 0, 0.15);\n",
              "      filter: drop-shadow(0px 1px 2px rgba(0, 0, 0, 0.3));\n",
              "      fill: #FFFFFF;\n",
              "    }\n",
              "  </style>\n",
              "\n",
              "      <script>\n",
              "        const buttonEl =\n",
              "          document.querySelector('#df-621c8f84-41bd-4920-a5bc-3b2f4b16e395 button.colab-df-convert');\n",
              "        buttonEl.style.display =\n",
              "          google.colab.kernel.accessAllowed ? 'block' : 'none';\n",
              "\n",
              "        async function convertToInteractive(key) {\n",
              "          const element = document.querySelector('#df-621c8f84-41bd-4920-a5bc-3b2f4b16e395');\n",
              "          const dataTable =\n",
              "            await google.colab.kernel.invokeFunction('convertToInteractive',\n",
              "                                                     [key], {});\n",
              "          if (!dataTable) return;\n",
              "\n",
              "          const docLinkHtml = 'Like what you see? Visit the ' +\n",
              "            '<a target=\"_blank\" href=https://colab.research.google.com/notebooks/data_table.ipynb>data table notebook</a>'\n",
              "            + ' to learn more about interactive tables.';\n",
              "          element.innerHTML = '';\n",
              "          dataTable['output_type'] = 'display_data';\n",
              "          await google.colab.output.renderOutput(dataTable, element);\n",
              "          const docLink = document.createElement('div');\n",
              "          docLink.innerHTML = docLinkHtml;\n",
              "          element.appendChild(docLink);\n",
              "        }\n",
              "      </script>\n",
              "    </div>\n",
              "  </div>\n",
              "  "
            ]
          },
          "metadata": {},
          "execution_count": 100
        }
      ]
    },
    {
      "cell_type": "markdown",
      "source": [
        "Učitavanje Google Schoolar dataframe-a."
      ],
      "metadata": {
        "id": "jNscvc_p72eA"
      }
    },
    {
      "cell_type": "code",
      "source": [
        "schoolar = pd.read_csv(\"GoogleScholarData.csv\")\n",
        "\n",
        "print(schoolar.shape)\n",
        "schoolar.head()"
      ],
      "metadata": {
        "colab": {
          "base_uri": "https://localhost:8080/",
          "height": 600
        },
        "id": "aB3NMnPA7EjN",
        "outputId": "7b79bbf8-2e3d-424e-a545-49ab37c8e98f"
      },
      "execution_count": null,
      "outputs": [
        {
          "output_type": "stream",
          "name": "stdout",
          "text": [
            "(110, 15)\n"
          ]
        },
        {
          "output_type": "execute_result",
          "data": {
            "text/plain": [
              "              Title                                          Title_URL  \\\n",
              "0      Ivica Puljak  https://scholar.google.com/citations?hl=en&use...   \n",
              "1  Nikola Godinovic  https://scholar.google.com/citations?hl=en&use...   \n",
              "2      Sven Gotovac  https://scholar.google.com/citations?hl=en&use...   \n",
              "3    Linda Vicković  https://scholar.google.com/citations?hl=en&use...   \n",
              "4      Petra Loncar  https://scholar.google.com/citations?hl=en&use...   \n",
              "\n",
              "                                               Image  \\\n",
              "0  https://scholar.googleusercontent.com/citation...   \n",
              "1  https://scholar.googleusercontent.com/citation...   \n",
              "2  https://scholar.googleusercontent.com/citation...   \n",
              "3  https://scholar.google.com/citations/images/av...   \n",
              "4  https://scholar.google.com/citations/images/av...   \n",
              "\n",
              "                                           gs_ai_aff  \\\n",
              "0  University of Split, Faculty of Electrical Eng...   \n",
              "1                                University of Split   \n",
              "2  Professor electrical engineering, University o...   \n",
              "3           Assistant professor, University of Split   \n",
              "4  University of Split, Faculty of Electrical Eng...   \n",
              "\n",
              "                   gs_ai_eml           Number  \\\n",
              "0  Verified email at fesb.hr  Cited by 189705   \n",
              "1  Verified email at fesb.hr  Cited by 185274   \n",
              "2  Verified email at fesb.hr   Cited by 54439   \n",
              "3  Verified email at fesb.hr   Cited by 50329   \n",
              "4  Verified email at fesb.hr    Cited by 8756   \n",
              "\n",
              "                                   gs_ai_one_int_URL         gs_ai_one_int  \\\n",
              "0  https://scholar.google.com/citations?hl=en&vie...   High energy physics   \n",
              "1                                                NaN                   NaN   \n",
              "2  https://scholar.google.com/citations?hl=en&vie...    Parallel computing   \n",
              "3  https://scholar.google.com/citations?hl=en&vie...  Software engineering   \n",
              "4                                                NaN                   NaN   \n",
              "\n",
              "                                  gs_ai_one_int_URL1  \\\n",
              "0  https://scholar.google.com/citations?hl=en&vie...   \n",
              "1                                                NaN   \n",
              "2  https://scholar.google.com/citations?hl=en&vie...   \n",
              "3  https://scholar.google.com/citations?hl=en&vie...   \n",
              "4                                                NaN   \n",
              "\n",
              "                                  gs_ai_one_int2  \\\n",
              "0                          Astroparticle physics   \n",
              "1                                            NaN   \n",
              "2                               Image processing   \n",
              "3  Complex data storage systems simulation and …   \n",
              "4                                            NaN   \n",
              "\n",
              "                                  gs_ai_one_int_URL3          gs_ai_one_int4  \\\n",
              "0  https://scholar.google.com/citations?hl=en&vie...         Instrumentation   \n",
              "1                                                NaN                     NaN   \n",
              "2  https://scholar.google.com/citations?hl=en&vie...  Artificial inteligence   \n",
              "3                                                NaN                     NaN   \n",
              "4                                                NaN                     NaN   \n",
              "\n",
              "   Unnamed: 12  Unnamed: 13   hi  \n",
              "0          NaN          NaN  194  \n",
              "1          NaN          NaN  187  \n",
              "2          NaN          NaN  108  \n",
              "3          NaN          NaN  107  \n",
              "4          NaN          NaN   56  "
            ],
            "text/html": [
              "\n",
              "  <div id=\"df-076c2d22-ccbc-467b-9340-86c2b0dd2fe2\">\n",
              "    <div class=\"colab-df-container\">\n",
              "      <div>\n",
              "<style scoped>\n",
              "    .dataframe tbody tr th:only-of-type {\n",
              "        vertical-align: middle;\n",
              "    }\n",
              "\n",
              "    .dataframe tbody tr th {\n",
              "        vertical-align: top;\n",
              "    }\n",
              "\n",
              "    .dataframe thead th {\n",
              "        text-align: right;\n",
              "    }\n",
              "</style>\n",
              "<table border=\"1\" class=\"dataframe\">\n",
              "  <thead>\n",
              "    <tr style=\"text-align: right;\">\n",
              "      <th></th>\n",
              "      <th>Title</th>\n",
              "      <th>Title_URL</th>\n",
              "      <th>Image</th>\n",
              "      <th>gs_ai_aff</th>\n",
              "      <th>gs_ai_eml</th>\n",
              "      <th>Number</th>\n",
              "      <th>gs_ai_one_int_URL</th>\n",
              "      <th>gs_ai_one_int</th>\n",
              "      <th>gs_ai_one_int_URL1</th>\n",
              "      <th>gs_ai_one_int2</th>\n",
              "      <th>gs_ai_one_int_URL3</th>\n",
              "      <th>gs_ai_one_int4</th>\n",
              "      <th>Unnamed: 12</th>\n",
              "      <th>Unnamed: 13</th>\n",
              "      <th>hi</th>\n",
              "    </tr>\n",
              "  </thead>\n",
              "  <tbody>\n",
              "    <tr>\n",
              "      <th>0</th>\n",
              "      <td>Ivica Puljak</td>\n",
              "      <td>https://scholar.google.com/citations?hl=en&amp;use...</td>\n",
              "      <td>https://scholar.googleusercontent.com/citation...</td>\n",
              "      <td>University of Split, Faculty of Electrical Eng...</td>\n",
              "      <td>Verified email at fesb.hr</td>\n",
              "      <td>Cited by 189705</td>\n",
              "      <td>https://scholar.google.com/citations?hl=en&amp;vie...</td>\n",
              "      <td>High energy physics</td>\n",
              "      <td>https://scholar.google.com/citations?hl=en&amp;vie...</td>\n",
              "      <td>Astroparticle physics</td>\n",
              "      <td>https://scholar.google.com/citations?hl=en&amp;vie...</td>\n",
              "      <td>Instrumentation</td>\n",
              "      <td>NaN</td>\n",
              "      <td>NaN</td>\n",
              "      <td>194</td>\n",
              "    </tr>\n",
              "    <tr>\n",
              "      <th>1</th>\n",
              "      <td>Nikola Godinovic</td>\n",
              "      <td>https://scholar.google.com/citations?hl=en&amp;use...</td>\n",
              "      <td>https://scholar.googleusercontent.com/citation...</td>\n",
              "      <td>University of Split</td>\n",
              "      <td>Verified email at fesb.hr</td>\n",
              "      <td>Cited by 185274</td>\n",
              "      <td>NaN</td>\n",
              "      <td>NaN</td>\n",
              "      <td>NaN</td>\n",
              "      <td>NaN</td>\n",
              "      <td>NaN</td>\n",
              "      <td>NaN</td>\n",
              "      <td>NaN</td>\n",
              "      <td>NaN</td>\n",
              "      <td>187</td>\n",
              "    </tr>\n",
              "    <tr>\n",
              "      <th>2</th>\n",
              "      <td>Sven Gotovac</td>\n",
              "      <td>https://scholar.google.com/citations?hl=en&amp;use...</td>\n",
              "      <td>https://scholar.googleusercontent.com/citation...</td>\n",
              "      <td>Professor electrical engineering, University o...</td>\n",
              "      <td>Verified email at fesb.hr</td>\n",
              "      <td>Cited by 54439</td>\n",
              "      <td>https://scholar.google.com/citations?hl=en&amp;vie...</td>\n",
              "      <td>Parallel computing</td>\n",
              "      <td>https://scholar.google.com/citations?hl=en&amp;vie...</td>\n",
              "      <td>Image processing</td>\n",
              "      <td>https://scholar.google.com/citations?hl=en&amp;vie...</td>\n",
              "      <td>Artificial inteligence</td>\n",
              "      <td>NaN</td>\n",
              "      <td>NaN</td>\n",
              "      <td>108</td>\n",
              "    </tr>\n",
              "    <tr>\n",
              "      <th>3</th>\n",
              "      <td>Linda Vicković</td>\n",
              "      <td>https://scholar.google.com/citations?hl=en&amp;use...</td>\n",
              "      <td>https://scholar.google.com/citations/images/av...</td>\n",
              "      <td>Assistant professor, University of Split</td>\n",
              "      <td>Verified email at fesb.hr</td>\n",
              "      <td>Cited by 50329</td>\n",
              "      <td>https://scholar.google.com/citations?hl=en&amp;vie...</td>\n",
              "      <td>Software engineering</td>\n",
              "      <td>https://scholar.google.com/citations?hl=en&amp;vie...</td>\n",
              "      <td>Complex data storage systems simulation and …</td>\n",
              "      <td>NaN</td>\n",
              "      <td>NaN</td>\n",
              "      <td>NaN</td>\n",
              "      <td>NaN</td>\n",
              "      <td>107</td>\n",
              "    </tr>\n",
              "    <tr>\n",
              "      <th>4</th>\n",
              "      <td>Petra Loncar</td>\n",
              "      <td>https://scholar.google.com/citations?hl=en&amp;use...</td>\n",
              "      <td>https://scholar.google.com/citations/images/av...</td>\n",
              "      <td>University of Split, Faculty of Electrical Eng...</td>\n",
              "      <td>Verified email at fesb.hr</td>\n",
              "      <td>Cited by 8756</td>\n",
              "      <td>NaN</td>\n",
              "      <td>NaN</td>\n",
              "      <td>NaN</td>\n",
              "      <td>NaN</td>\n",
              "      <td>NaN</td>\n",
              "      <td>NaN</td>\n",
              "      <td>NaN</td>\n",
              "      <td>NaN</td>\n",
              "      <td>56</td>\n",
              "    </tr>\n",
              "  </tbody>\n",
              "</table>\n",
              "</div>\n",
              "      <button class=\"colab-df-convert\" onclick=\"convertToInteractive('df-076c2d22-ccbc-467b-9340-86c2b0dd2fe2')\"\n",
              "              title=\"Convert this dataframe to an interactive table.\"\n",
              "              style=\"display:none;\">\n",
              "        \n",
              "  <svg xmlns=\"http://www.w3.org/2000/svg\" height=\"24px\"viewBox=\"0 0 24 24\"\n",
              "       width=\"24px\">\n",
              "    <path d=\"M0 0h24v24H0V0z\" fill=\"none\"/>\n",
              "    <path d=\"M18.56 5.44l.94 2.06.94-2.06 2.06-.94-2.06-.94-.94-2.06-.94 2.06-2.06.94zm-11 1L8.5 8.5l.94-2.06 2.06-.94-2.06-.94L8.5 2.5l-.94 2.06-2.06.94zm10 10l.94 2.06.94-2.06 2.06-.94-2.06-.94-.94-2.06-.94 2.06-2.06.94z\"/><path d=\"M17.41 7.96l-1.37-1.37c-.4-.4-.92-.59-1.43-.59-.52 0-1.04.2-1.43.59L10.3 9.45l-7.72 7.72c-.78.78-.78 2.05 0 2.83L4 21.41c.39.39.9.59 1.41.59.51 0 1.02-.2 1.41-.59l7.78-7.78 2.81-2.81c.8-.78.8-2.07 0-2.86zM5.41 20L4 18.59l7.72-7.72 1.47 1.35L5.41 20z\"/>\n",
              "  </svg>\n",
              "      </button>\n",
              "      \n",
              "  <style>\n",
              "    .colab-df-container {\n",
              "      display:flex;\n",
              "      flex-wrap:wrap;\n",
              "      gap: 12px;\n",
              "    }\n",
              "\n",
              "    .colab-df-convert {\n",
              "      background-color: #E8F0FE;\n",
              "      border: none;\n",
              "      border-radius: 50%;\n",
              "      cursor: pointer;\n",
              "      display: none;\n",
              "      fill: #1967D2;\n",
              "      height: 32px;\n",
              "      padding: 0 0 0 0;\n",
              "      width: 32px;\n",
              "    }\n",
              "\n",
              "    .colab-df-convert:hover {\n",
              "      background-color: #E2EBFA;\n",
              "      box-shadow: 0px 1px 2px rgba(60, 64, 67, 0.3), 0px 1px 3px 1px rgba(60, 64, 67, 0.15);\n",
              "      fill: #174EA6;\n",
              "    }\n",
              "\n",
              "    [theme=dark] .colab-df-convert {\n",
              "      background-color: #3B4455;\n",
              "      fill: #D2E3FC;\n",
              "    }\n",
              "\n",
              "    [theme=dark] .colab-df-convert:hover {\n",
              "      background-color: #434B5C;\n",
              "      box-shadow: 0px 1px 3px 1px rgba(0, 0, 0, 0.15);\n",
              "      filter: drop-shadow(0px 1px 2px rgba(0, 0, 0, 0.3));\n",
              "      fill: #FFFFFF;\n",
              "    }\n",
              "  </style>\n",
              "\n",
              "      <script>\n",
              "        const buttonEl =\n",
              "          document.querySelector('#df-076c2d22-ccbc-467b-9340-86c2b0dd2fe2 button.colab-df-convert');\n",
              "        buttonEl.style.display =\n",
              "          google.colab.kernel.accessAllowed ? 'block' : 'none';\n",
              "\n",
              "        async function convertToInteractive(key) {\n",
              "          const element = document.querySelector('#df-076c2d22-ccbc-467b-9340-86c2b0dd2fe2');\n",
              "          const dataTable =\n",
              "            await google.colab.kernel.invokeFunction('convertToInteractive',\n",
              "                                                     [key], {});\n",
              "          if (!dataTable) return;\n",
              "\n",
              "          const docLinkHtml = 'Like what you see? Visit the ' +\n",
              "            '<a target=\"_blank\" href=https://colab.research.google.com/notebooks/data_table.ipynb>data table notebook</a>'\n",
              "            + ' to learn more about interactive tables.';\n",
              "          element.innerHTML = '';\n",
              "          dataTable['output_type'] = 'display_data';\n",
              "          await google.colab.output.renderOutput(dataTable, element);\n",
              "          const docLink = document.createElement('div');\n",
              "          docLink.innerHTML = docLinkHtml;\n",
              "          element.appendChild(docLink);\n",
              "        }\n",
              "      </script>\n",
              "    </div>\n",
              "  </div>\n",
              "  "
            ]
          },
          "metadata": {},
          "execution_count": 101
        }
      ]
    },
    {
      "cell_type": "markdown",
      "source": [
        "Merge dvaju dataframe-a."
      ],
      "metadata": {
        "id": "oQp7pakN8L9C"
      }
    },
    {
      "cell_type": "code",
      "source": [
        "print(employees.shape)\n",
        "employeesSchoolar=employees.merge(schoolar, how='right', left_on='fullName', right_on='Title')\n",
        "print(employeesSchoolar.shape)\n",
        "employeesSchoolar.head()"
      ],
      "metadata": {
        "colab": {
          "base_uri": "https://localhost:8080/",
          "height": 543
        },
        "id": "JZy6P5318HRl",
        "outputId": "ef27e244-74eb-4618-d7fb-01745a62c6c8"
      },
      "execution_count": null,
      "outputs": [
        {
          "output_type": "stream",
          "name": "stdout",
          "text": [
            "(276, 17)\n",
            "(110, 32)\n"
          ]
        },
        {
          "output_type": "execute_result",
          "data": {
            "text/plain": [
              "   Unnamed: 0  Unnamed: 0.1  \\\n",
              "0       236.0         236.0   \n",
              "1         NaN           NaN   \n",
              "2        54.0          54.0   \n",
              "3       150.0         150.0   \n",
              "4         NaN           NaN   \n",
              "\n",
              "                                         detailsLink  \\\n",
              "0  https://nastava.fesb.unist.hr/nastava/nastavni...   \n",
              "1                                                NaN   \n",
              "2  https://nastava.fesb.unist.hr/nastava/nastavni...   \n",
              "3  https://nastava.fesb.unist.hr/nastava/nastavni...   \n",
              "4                                                NaN   \n",
              "\n",
              "                                             image  lastName firstName  \\\n",
              "0   https://korisnik.fesb.hr/slika/mala/puljak.jpg    Puljak     Ivica   \n",
              "1                                              NaN       NaN       NaN   \n",
              "2  https://korisnik.fesb.hr/slika/mala/gotovac.jpg   Gotovac      Sven   \n",
              "3    https://korisnik.fesb.hr/slika/mala/linda.jpg  Vicković     Linda   \n",
              "4                                              NaN       NaN       NaN   \n",
              "\n",
              "  deparment location           details     sex  ...           Number  \\\n",
              "0       NaN     B705  vanjski_suradnik    MALE  ...  Cited by 189705   \n",
              "1       NaN      NaN               NaN     NaN  ...  Cited by 185274   \n",
              "2       ZER      NaN         djelatnik    MALE  ...   Cited by 54439   \n",
              "3       ZER     B509         djelatnik  FEMALE  ...   Cited by 50329   \n",
              "4       NaN      NaN               NaN     NaN  ...    Cited by 8756   \n",
              "\n",
              "                                   gs_ai_one_int_URL         gs_ai_one_int  \\\n",
              "0  https://scholar.google.com/citations?hl=en&vie...   High energy physics   \n",
              "1                                                NaN                   NaN   \n",
              "2  https://scholar.google.com/citations?hl=en&vie...    Parallel computing   \n",
              "3  https://scholar.google.com/citations?hl=en&vie...  Software engineering   \n",
              "4                                                NaN                   NaN   \n",
              "\n",
              "                                  gs_ai_one_int_URL1  \\\n",
              "0  https://scholar.google.com/citations?hl=en&vie...   \n",
              "1                                                NaN   \n",
              "2  https://scholar.google.com/citations?hl=en&vie...   \n",
              "3  https://scholar.google.com/citations?hl=en&vie...   \n",
              "4                                                NaN   \n",
              "\n",
              "                                  gs_ai_one_int2  \\\n",
              "0                          Astroparticle physics   \n",
              "1                                            NaN   \n",
              "2                               Image processing   \n",
              "3  Complex data storage systems simulation and …   \n",
              "4                                            NaN   \n",
              "\n",
              "                                  gs_ai_one_int_URL3          gs_ai_one_int4  \\\n",
              "0  https://scholar.google.com/citations?hl=en&vie...         Instrumentation   \n",
              "1                                                NaN                     NaN   \n",
              "2  https://scholar.google.com/citations?hl=en&vie...  Artificial inteligence   \n",
              "3                                                NaN                     NaN   \n",
              "4                                                NaN                     NaN   \n",
              "\n",
              "  Unnamed: 12 Unnamed: 13   hi  \n",
              "0         NaN         NaN  194  \n",
              "1         NaN         NaN  187  \n",
              "2         NaN         NaN  108  \n",
              "3         NaN         NaN  107  \n",
              "4         NaN         NaN   56  \n",
              "\n",
              "[5 rows x 32 columns]"
            ],
            "text/html": [
              "\n",
              "  <div id=\"df-8f647796-6f98-442e-8555-1f9e239d2b2f\">\n",
              "    <div class=\"colab-df-container\">\n",
              "      <div>\n",
              "<style scoped>\n",
              "    .dataframe tbody tr th:only-of-type {\n",
              "        vertical-align: middle;\n",
              "    }\n",
              "\n",
              "    .dataframe tbody tr th {\n",
              "        vertical-align: top;\n",
              "    }\n",
              "\n",
              "    .dataframe thead th {\n",
              "        text-align: right;\n",
              "    }\n",
              "</style>\n",
              "<table border=\"1\" class=\"dataframe\">\n",
              "  <thead>\n",
              "    <tr style=\"text-align: right;\">\n",
              "      <th></th>\n",
              "      <th>Unnamed: 0</th>\n",
              "      <th>Unnamed: 0.1</th>\n",
              "      <th>detailsLink</th>\n",
              "      <th>image</th>\n",
              "      <th>lastName</th>\n",
              "      <th>firstName</th>\n",
              "      <th>deparment</th>\n",
              "      <th>location</th>\n",
              "      <th>details</th>\n",
              "      <th>sex</th>\n",
              "      <th>...</th>\n",
              "      <th>Number</th>\n",
              "      <th>gs_ai_one_int_URL</th>\n",
              "      <th>gs_ai_one_int</th>\n",
              "      <th>gs_ai_one_int_URL1</th>\n",
              "      <th>gs_ai_one_int2</th>\n",
              "      <th>gs_ai_one_int_URL3</th>\n",
              "      <th>gs_ai_one_int4</th>\n",
              "      <th>Unnamed: 12</th>\n",
              "      <th>Unnamed: 13</th>\n",
              "      <th>hi</th>\n",
              "    </tr>\n",
              "  </thead>\n",
              "  <tbody>\n",
              "    <tr>\n",
              "      <th>0</th>\n",
              "      <td>236.0</td>\n",
              "      <td>236.0</td>\n",
              "      <td>https://nastava.fesb.unist.hr/nastava/nastavni...</td>\n",
              "      <td>https://korisnik.fesb.hr/slika/mala/puljak.jpg</td>\n",
              "      <td>Puljak</td>\n",
              "      <td>Ivica</td>\n",
              "      <td>NaN</td>\n",
              "      <td>B705</td>\n",
              "      <td>vanjski_suradnik</td>\n",
              "      <td>MALE</td>\n",
              "      <td>...</td>\n",
              "      <td>Cited by 189705</td>\n",
              "      <td>https://scholar.google.com/citations?hl=en&amp;vie...</td>\n",
              "      <td>High energy physics</td>\n",
              "      <td>https://scholar.google.com/citations?hl=en&amp;vie...</td>\n",
              "      <td>Astroparticle physics</td>\n",
              "      <td>https://scholar.google.com/citations?hl=en&amp;vie...</td>\n",
              "      <td>Instrumentation</td>\n",
              "      <td>NaN</td>\n",
              "      <td>NaN</td>\n",
              "      <td>194</td>\n",
              "    </tr>\n",
              "    <tr>\n",
              "      <th>1</th>\n",
              "      <td>NaN</td>\n",
              "      <td>NaN</td>\n",
              "      <td>NaN</td>\n",
              "      <td>NaN</td>\n",
              "      <td>NaN</td>\n",
              "      <td>NaN</td>\n",
              "      <td>NaN</td>\n",
              "      <td>NaN</td>\n",
              "      <td>NaN</td>\n",
              "      <td>NaN</td>\n",
              "      <td>...</td>\n",
              "      <td>Cited by 185274</td>\n",
              "      <td>NaN</td>\n",
              "      <td>NaN</td>\n",
              "      <td>NaN</td>\n",
              "      <td>NaN</td>\n",
              "      <td>NaN</td>\n",
              "      <td>NaN</td>\n",
              "      <td>NaN</td>\n",
              "      <td>NaN</td>\n",
              "      <td>187</td>\n",
              "    </tr>\n",
              "    <tr>\n",
              "      <th>2</th>\n",
              "      <td>54.0</td>\n",
              "      <td>54.0</td>\n",
              "      <td>https://nastava.fesb.unist.hr/nastava/nastavni...</td>\n",
              "      <td>https://korisnik.fesb.hr/slika/mala/gotovac.jpg</td>\n",
              "      <td>Gotovac</td>\n",
              "      <td>Sven</td>\n",
              "      <td>ZER</td>\n",
              "      <td>NaN</td>\n",
              "      <td>djelatnik</td>\n",
              "      <td>MALE</td>\n",
              "      <td>...</td>\n",
              "      <td>Cited by 54439</td>\n",
              "      <td>https://scholar.google.com/citations?hl=en&amp;vie...</td>\n",
              "      <td>Parallel computing</td>\n",
              "      <td>https://scholar.google.com/citations?hl=en&amp;vie...</td>\n",
              "      <td>Image processing</td>\n",
              "      <td>https://scholar.google.com/citations?hl=en&amp;vie...</td>\n",
              "      <td>Artificial inteligence</td>\n",
              "      <td>NaN</td>\n",
              "      <td>NaN</td>\n",
              "      <td>108</td>\n",
              "    </tr>\n",
              "    <tr>\n",
              "      <th>3</th>\n",
              "      <td>150.0</td>\n",
              "      <td>150.0</td>\n",
              "      <td>https://nastava.fesb.unist.hr/nastava/nastavni...</td>\n",
              "      <td>https://korisnik.fesb.hr/slika/mala/linda.jpg</td>\n",
              "      <td>Vicković</td>\n",
              "      <td>Linda</td>\n",
              "      <td>ZER</td>\n",
              "      <td>B509</td>\n",
              "      <td>djelatnik</td>\n",
              "      <td>FEMALE</td>\n",
              "      <td>...</td>\n",
              "      <td>Cited by 50329</td>\n",
              "      <td>https://scholar.google.com/citations?hl=en&amp;vie...</td>\n",
              "      <td>Software engineering</td>\n",
              "      <td>https://scholar.google.com/citations?hl=en&amp;vie...</td>\n",
              "      <td>Complex data storage systems simulation and …</td>\n",
              "      <td>NaN</td>\n",
              "      <td>NaN</td>\n",
              "      <td>NaN</td>\n",
              "      <td>NaN</td>\n",
              "      <td>107</td>\n",
              "    </tr>\n",
              "    <tr>\n",
              "      <th>4</th>\n",
              "      <td>NaN</td>\n",
              "      <td>NaN</td>\n",
              "      <td>NaN</td>\n",
              "      <td>NaN</td>\n",
              "      <td>NaN</td>\n",
              "      <td>NaN</td>\n",
              "      <td>NaN</td>\n",
              "      <td>NaN</td>\n",
              "      <td>NaN</td>\n",
              "      <td>NaN</td>\n",
              "      <td>...</td>\n",
              "      <td>Cited by 8756</td>\n",
              "      <td>NaN</td>\n",
              "      <td>NaN</td>\n",
              "      <td>NaN</td>\n",
              "      <td>NaN</td>\n",
              "      <td>NaN</td>\n",
              "      <td>NaN</td>\n",
              "      <td>NaN</td>\n",
              "      <td>NaN</td>\n",
              "      <td>56</td>\n",
              "    </tr>\n",
              "  </tbody>\n",
              "</table>\n",
              "<p>5 rows × 32 columns</p>\n",
              "</div>\n",
              "      <button class=\"colab-df-convert\" onclick=\"convertToInteractive('df-8f647796-6f98-442e-8555-1f9e239d2b2f')\"\n",
              "              title=\"Convert this dataframe to an interactive table.\"\n",
              "              style=\"display:none;\">\n",
              "        \n",
              "  <svg xmlns=\"http://www.w3.org/2000/svg\" height=\"24px\"viewBox=\"0 0 24 24\"\n",
              "       width=\"24px\">\n",
              "    <path d=\"M0 0h24v24H0V0z\" fill=\"none\"/>\n",
              "    <path d=\"M18.56 5.44l.94 2.06.94-2.06 2.06-.94-2.06-.94-.94-2.06-.94 2.06-2.06.94zm-11 1L8.5 8.5l.94-2.06 2.06-.94-2.06-.94L8.5 2.5l-.94 2.06-2.06.94zm10 10l.94 2.06.94-2.06 2.06-.94-2.06-.94-.94-2.06-.94 2.06-2.06.94z\"/><path d=\"M17.41 7.96l-1.37-1.37c-.4-.4-.92-.59-1.43-.59-.52 0-1.04.2-1.43.59L10.3 9.45l-7.72 7.72c-.78.78-.78 2.05 0 2.83L4 21.41c.39.39.9.59 1.41.59.51 0 1.02-.2 1.41-.59l7.78-7.78 2.81-2.81c.8-.78.8-2.07 0-2.86zM5.41 20L4 18.59l7.72-7.72 1.47 1.35L5.41 20z\"/>\n",
              "  </svg>\n",
              "      </button>\n",
              "      \n",
              "  <style>\n",
              "    .colab-df-container {\n",
              "      display:flex;\n",
              "      flex-wrap:wrap;\n",
              "      gap: 12px;\n",
              "    }\n",
              "\n",
              "    .colab-df-convert {\n",
              "      background-color: #E8F0FE;\n",
              "      border: none;\n",
              "      border-radius: 50%;\n",
              "      cursor: pointer;\n",
              "      display: none;\n",
              "      fill: #1967D2;\n",
              "      height: 32px;\n",
              "      padding: 0 0 0 0;\n",
              "      width: 32px;\n",
              "    }\n",
              "\n",
              "    .colab-df-convert:hover {\n",
              "      background-color: #E2EBFA;\n",
              "      box-shadow: 0px 1px 2px rgba(60, 64, 67, 0.3), 0px 1px 3px 1px rgba(60, 64, 67, 0.15);\n",
              "      fill: #174EA6;\n",
              "    }\n",
              "\n",
              "    [theme=dark] .colab-df-convert {\n",
              "      background-color: #3B4455;\n",
              "      fill: #D2E3FC;\n",
              "    }\n",
              "\n",
              "    [theme=dark] .colab-df-convert:hover {\n",
              "      background-color: #434B5C;\n",
              "      box-shadow: 0px 1px 3px 1px rgba(0, 0, 0, 0.15);\n",
              "      filter: drop-shadow(0px 1px 2px rgba(0, 0, 0, 0.3));\n",
              "      fill: #FFFFFF;\n",
              "    }\n",
              "  </style>\n",
              "\n",
              "      <script>\n",
              "        const buttonEl =\n",
              "          document.querySelector('#df-8f647796-6f98-442e-8555-1f9e239d2b2f button.colab-df-convert');\n",
              "        buttonEl.style.display =\n",
              "          google.colab.kernel.accessAllowed ? 'block' : 'none';\n",
              "\n",
              "        async function convertToInteractive(key) {\n",
              "          const element = document.querySelector('#df-8f647796-6f98-442e-8555-1f9e239d2b2f');\n",
              "          const dataTable =\n",
              "            await google.colab.kernel.invokeFunction('convertToInteractive',\n",
              "                                                     [key], {});\n",
              "          if (!dataTable) return;\n",
              "\n",
              "          const docLinkHtml = 'Like what you see? Visit the ' +\n",
              "            '<a target=\"_blank\" href=https://colab.research.google.com/notebooks/data_table.ipynb>data table notebook</a>'\n",
              "            + ' to learn more about interactive tables.';\n",
              "          element.innerHTML = '';\n",
              "          dataTable['output_type'] = 'display_data';\n",
              "          await google.colab.output.renderOutput(dataTable, element);\n",
              "          const docLink = document.createElement('div');\n",
              "          docLink.innerHTML = docLinkHtml;\n",
              "          element.appendChild(docLink);\n",
              "        }\n",
              "      </script>\n",
              "    </div>\n",
              "  </div>\n",
              "  "
            ]
          },
          "metadata": {},
          "execution_count": 110
        }
      ]
    }
  ]
}